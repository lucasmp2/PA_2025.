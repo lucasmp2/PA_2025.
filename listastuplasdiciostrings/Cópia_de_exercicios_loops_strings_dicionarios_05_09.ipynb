{
  "cells": [
    {
      "cell_type": "markdown",
      "metadata": {
        "id": "view-in-github",
        "colab_type": "text"
      },
      "source": [
        "<a href=\"https://colab.research.google.com/github/lucasmp2/PA_2025./blob/main/listastuplasdiciostrings/C%C3%B3pia_de_exercicios_loops_strings_dicionarios_05_09.ipynb\" target=\"_parent\"><img src=\"https://colab.research.google.com/assets/colab-badge.svg\" alt=\"Open In Colab\"/></a>"
      ]
    },
    {
      "cell_type": "markdown",
      "id": "50e41763",
      "metadata": {
        "id": "50e41763"
      },
      "source": [
        "# Lista de Exercícios - Python (Loops, Strings e Dicionários)\n",
        "Este notebook contém 15 exercícios para praticar `for`, `while`, manipulação de **strings** e **dicionários`."
      ]
    },
    {
      "cell_type": "markdown",
      "id": "6c5e8da0",
      "metadata": {
        "id": "6c5e8da0"
      },
      "source": [
        "### 1. **Contagem de vogais**: Peça uma palavra e conte quantas vezes cada vogal aparece (usar `for` ou `while`)."
      ]
    },
    {
      "cell_type": "code",
      "execution_count": null,
      "id": "15f84469",
      "metadata": {
        "id": "15f84469",
        "colab": {
          "base_uri": "https://localhost:8080/"
        },
        "outputId": "71c4458d-411c-4bed-d96b-54594aa01bb1"
      },
      "outputs": [
        {
          "output_type": "stream",
          "name": "stdout",
          "text": [
            "Digite uma palavra: Lucas e Molon\n",
            "{'a': 1, 'e': 1, 'i': 0, 'o': 2, 'u': 1}\n"
          ]
        }
      ],
      "source": [
        "palavra = input(\"Digite uma palavra: \").lower()\n",
        "vogais = \"aeiou\"\n",
        "contagem = {v:0 for v in vogais}\n",
        "for letra in palavra:\n",
        "    if letra in vogais:\n",
        "        contagem[letra] += 1\n",
        "print(contagem)"
      ]
    },
    {
      "cell_type": "markdown",
      "id": "2446d942",
      "metadata": {
        "id": "2446d942"
      },
      "source": [
        "### 2. **Inversão de string**: Solicite uma frase e mostre-a invertida **sem usar slicing** (`[::-1]` não vale). Use `while`."
      ]
    },
    {
      "cell_type": "code",
      "execution_count": null,
      "id": "4bd947d4",
      "metadata": {
        "id": "4bd947d4",
        "colab": {
          "base_uri": "https://localhost:8080/"
        },
        "outputId": "db5576bb-e4c7-4a5f-a40c-35a81e20495d"
      },
      "outputs": [
        {
          "output_type": "stream",
          "name": "stdout",
          "text": [
            "Digite uma frase: Jean Santana\n",
            "Invertida: anatnaS naeJ\n"
          ]
        }
      ],
      "source": [
        "frase = input(\"Digite uma frase: \")\n",
        "invertida = \"\"\n",
        "i = len(frase) - 1\n",
        "while i >= 0:\n",
        "    invertida += frase[i]\n",
        "    i -= 1\n",
        "print(\"Invertida:\", invertida)"
      ]
    },
    {
      "cell_type": "markdown",
      "id": "096a5b5d",
      "metadata": {
        "id": "096a5b5d"
      },
      "source": [
        "### 3. **Frequência de caracteres**: Dada uma string, crie um dicionário que mostre quantas vezes cada caractere aparece."
      ]
    },
    {
      "cell_type": "code",
      "execution_count": null,
      "id": "bd28dd49",
      "metadata": {
        "id": "bd28dd49",
        "colab": {
          "base_uri": "https://localhost:8080/"
        },
        "outputId": "e41dfd7c-d391-4251-e664-993e143136b9"
      },
      "outputs": [
        {
          "output_type": "stream",
          "name": "stdout",
          "text": [
            "Digite uma string: Lucas e molas\n",
            "{'L': 1, 'u': 1, 'c': 1, 'a': 2, 's': 2, ' ': 2, 'e': 1, 'm': 1, 'o': 1, 'l': 1}\n"
          ]
        }
      ],
      "source": [
        "texto = input(\"Digite uma string: \")\n",
        "fre = {}\n",
        "for i in texto:\n",
        "    fre[i] = fre.get(i, 0) + 1\n",
        "print(fre)"
      ]
    },
    {
      "cell_type": "markdown",
      "id": "d046cc57",
      "metadata": {
        "id": "d046cc57"
      },
      "source": [
        "### 4. **Palavras únicas**: Peça uma frase e mostre as palavras que aparecem **apenas uma vez**."
      ]
    },
    {
      "cell_type": "code",
      "execution_count": null,
      "id": "092bef79",
      "metadata": {
        "id": "092bef79",
        "colab": {
          "base_uri": "https://localhost:8080/"
        },
        "outputId": "ec4951a3-5e1c-465a-e8d7-532ce066d64c"
      },
      "outputs": [
        {
          "output_type": "stream",
          "name": "stdout",
          "text": [
            "Digite uma frase: arroz arroz a e a feijão\n",
            "e\n",
            "feijão\n"
          ]
        }
      ],
      "source": [
        "frase = input(\"Digite uma frase: \").split()\n",
        "for palavra in frase:\n",
        "    if frase.count(palavra) == 1:\n",
        "        print(palavra)"
      ]
    },
    {
      "cell_type": "markdown",
      "id": "3ea99323",
      "metadata": {
        "id": "3ea99323"
      },
      "source": [
        "### 5. **Substituição manual**: Peça uma string e duas letras: substitua **manualmente** todas as ocorrências da primeira letra pela segunda, usando laço."
      ]
    },
    {
      "cell_type": "code",
      "execution_count": null,
      "id": "4d1406be",
      "metadata": {
        "id": "4d1406be",
        "colab": {
          "base_uri": "https://localhost:8080/"
        },
        "outputId": "d219568e-2b82-4738-acff-3d65f40605ef"
      },
      "outputs": [
        {
          "output_type": "stream",
          "name": "stdout",
          "text": [
            "Digite uma string: molon\n",
            "Digite letra para substituir: o\n",
            "Digite uma letra nova: a\n",
            "malan\n"
          ]
        }
      ],
      "source": [
        "texto  = input(\"Digite uma string: \")\n",
        "duasle = input(\"Digite letra para substituir: \")\n",
        "subs = input(\"Digite uma letra nova: \")\n",
        "resultado = \"\"\n",
        "for letra in texto:\n",
        "    if letra == duasle:\n",
        "        resultado += subs\n",
        "    else:\n",
        "        resultado += letra\n",
        "print(resultado)"
      ]
    },
    {
      "cell_type": "markdown",
      "id": "870e9e64",
      "metadata": {
        "id": "870e9e64"
      },
      "source": [
        "### 6. **Palíndromo**: Verifique se uma palavra é um **palíndromo** sem usar funções prontas de reversão."
      ]
    },
    {
      "cell_type": "code",
      "execution_count": null,
      "id": "87824151",
      "metadata": {
        "id": "87824151",
        "colab": {
          "base_uri": "https://localhost:8080/"
        },
        "outputId": "eb641351-efb7-41e8-e0aa-a870c9220b42"
      },
      "outputs": [
        {
          "output_type": "stream",
          "name": "stdout",
          "text": [
            "Digite uma frase: natan\n",
            "A palavra é palíndroma!\n"
          ]
        }
      ],
      "source": [
        "frase = input(\"Digite uma frase: \")\n",
        "invertida = \"\"\n",
        "i = len(frase) - 1\n",
        "while i >= 0:\n",
        "    invertida += frase[i]\n",
        "    i -= 1\n",
        "if invertida == frase:\n",
        "  print(\"A palavra é palíndroma!\")\n",
        "else:\n",
        "  print(\"A palavra não é palídroma\")"
      ]
    },
    {
      "cell_type": "markdown",
      "id": "ce1b0e1f",
      "metadata": {
        "id": "ce1b0e1f"
      },
      "source": [
        "### 7. **Enigma da senha**: Peça uma string e crie uma nova palavra pegando apenas as letras nas **posições ímpares**."
      ]
    },
    {
      "cell_type": "code",
      "execution_count": null,
      "id": "9fc744d2",
      "metadata": {
        "id": "9fc744d2",
        "colab": {
          "base_uri": "https://localhost:8080/"
        },
        "outputId": "7587a20d-9997-47a1-8515-6999c636f219"
      },
      "outputs": [
        {
          "output_type": "stream",
          "name": "stdout",
          "text": [
            "Digite uma palavra: arroz\n",
            "{'arroz': 1}\n"
          ]
        }
      ],
      "source": [
        "frase = input(\"Digite uma palavra: \").lower().split()\n",
        "dicionario = {}\n",
        "for palavra in frase:\n",
        "    dicionario[palavra] = dicionario.get(palavra, 0) + 1\n",
        "print(dicionario)"
      ]
    },
    {
      "cell_type": "markdown",
      "id": "42fe1350",
      "metadata": {
        "id": "42fe1350"
      },
      "source": [
        "### 8. **Expansão de abreviações**: Dado um dicionário de abreviações, substitua manualmente cada ocorrência em uma frase.\n",
        "\n",
        "(Ex: (vc: você, blz: beleza ..."
      ]
    },
    {
      "cell_type": "code",
      "execution_count": null,
      "id": "e63acd2a",
      "metadata": {
        "id": "e63acd2a",
        "colab": {
          "base_uri": "https://localhost:8080/"
        },
        "outputId": "e9e38f91-6fa1-4643-ff75-68ad4fcb4a68"
      },
      "outputs": [
        {
          "output_type": "stream",
          "name": "stdout",
          "text": [
            "Qunatas palavras? 2\n",
            "Digite uma palavra: arroz\n",
            "Digite uma palavra: sal\n",
            "Acróstico: as\n"
          ]
        }
      ],
      "source": [
        "n = int(input(\"Qunatas palavras? \"))\n",
        "acrostico = \"\"\n",
        "for _ in range(n):\n",
        "    palavra = input(\"Digite uma palavra: \")\n",
        "    acrostico += palavra[0]\n",
        "print(\"Acróstico:\", acrostico)"
      ]
    },
    {
      "cell_type": "markdown",
      "id": "3cf96a02",
      "metadata": {
        "id": "3cf96a02"
      },
      "source": [
        "### 9. **Criptografia simples**: Implemente uma cifra de substituição onde cada letra é trocada pela **próxima no alfabeto** (z → a)."
      ]
    },
    {
      "cell_type": "code",
      "execution_count": null,
      "id": "c8a0d724",
      "metadata": {
        "id": "c8a0d724",
        "colab": {
          "base_uri": "https://localhost:8080/"
        },
        "outputId": "038e3337-f108-4a24-bb60-2646407a39ec"
      },
      "outputs": [
        {
          "output_type": "stream",
          "name": "stdout",
          "text": [
            "Digite sua frase: molon\n",
            "npmpo\n"
          ]
        }
      ],
      "source": [
        "frase = str(input(\"Digite sua frase: \"))\n",
        "cifra = \"abcdefghijklmnopqrstuvwxyz\"\n",
        "cifrada = \"bcdefghijklmnopqrstuvwxyz\"\n",
        "resultado = \"\"\n",
        "for letra in frase:\n",
        "  if letra in cifra:\n",
        "    resultado += cifrada[cifra.index(letra)]\n",
        "print(resultado)\n"
      ]
    },
    {
      "cell_type": "markdown",
      "id": "4897443b",
      "metadata": {
        "id": "4897443b"
      },
      "source": [
        "### 10. **Anagrama**: Verifique se duas palavras são **anagramas**, usando dicionário para contar ocorrências."
      ]
    },
    {
      "cell_type": "code",
      "execution_count": null,
      "id": "4c53848e",
      "metadata": {
        "id": "4c53848e",
        "colab": {
          "base_uri": "https://localhost:8080/"
        },
        "outputId": "a62246b5-2164-4540-d88f-363a7bbf0e9a"
      },
      "outputs": [
        {
          "output_type": "stream",
          "name": "stdout",
          "text": [
            "Digite sua frase: arroz\n",
            "Digite sua frase: água\n",
            "Não é Anagrama\n",
            "{'a': 1, 'r': 2, 'o': 1, 'z': 1}\n",
            "{'á': 1, 'g': 1, 'u': 1, 'a': 1}\n"
          ]
        }
      ],
      "source": [
        "frase = str(input(\"Digite sua frase: \"))\n",
        "frase2 = str(input(\"Digite sua frase: \"))\n",
        "contagem = {}\n",
        "contagem2 = {}\n",
        "for letra in frase:\n",
        "  if letra in contagem:\n",
        "    contagem[letra] += 1\n",
        "  else:\n",
        "    contagem[letra] = 1\n",
        "for letra in frase2:\n",
        "  if letra in contagem2:\n",
        "    contagem2[letra] += 1\n",
        "  else:\n",
        "    contagem2[letra] = 1\n",
        "if contagem == contagem2:\n",
        "  print(\"é Anagrama\")\n",
        "  print(contagem)\n",
        "  print(contagem2)\n",
        "else:\n",
        "  print(\"Não é Anagrama\")\n",
        "  print(contagem)\n",
        "  print(contagem2)"
      ]
    }
  ],
  "metadata": {
    "colab": {
      "provenance": [],
      "include_colab_link": true
    },
    "language_info": {
      "name": "python"
    },
    "kernelspec": {
      "name": "python3",
      "display_name": "Python 3"
    }
  },
  "nbformat": 4,
  "nbformat_minor": 5
}