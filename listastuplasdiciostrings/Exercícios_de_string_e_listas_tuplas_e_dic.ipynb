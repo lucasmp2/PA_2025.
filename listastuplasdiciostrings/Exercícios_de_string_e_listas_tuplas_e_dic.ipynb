{
  "nbformat": 4,
  "nbformat_minor": 0,
  "metadata": {
    "colab": {
      "provenance": [],
      "authorship_tag": "ABX9TyMRcoNsZWVXfuNiup/yfQDZ",
      "include_colab_link": true
    },
    "kernelspec": {
      "name": "python3",
      "display_name": "Python 3"
    },
    "language_info": {
      "name": "python"
    }
  },
  "cells": [
    {
      "cell_type": "markdown",
      "metadata": {
        "id": "view-in-github",
        "colab_type": "text"
      },
      "source": [
        "<a href=\"https://colab.research.google.com/github/lucasmp2/PA_2025./blob/main/listastuplasdiciostrings/Exerc%C3%ADcios_de_string_e_listas_tuplas_e_dic.ipynb\" target=\"_parent\"><img src=\"https://colab.research.google.com/assets/colab-badge.svg\" alt=\"Open In Colab\"/></a>"
      ]
    },
    {
      "cell_type": "markdown",
      "source": [
        "# Exercício de manipulação de strings"
      ],
      "metadata": {
        "id": "xtFAvfbc10Ek"
      }
    },
    {
      "cell_type": "markdown",
      "source": [
        "##Exercício 1"
      ],
      "metadata": {
        "id": "xKr0Awdb2mJZ"
      }
    },
    {
      "cell_type": "code",
      "source": [
        "x = \"Hello word\"\n",
        "print(len(x))"
      ],
      "metadata": {
        "colab": {
          "base_uri": "https://localhost:8080/"
        },
        "id": "Qr8_06AW2o20",
        "outputId": "40c5a3df-fd77-468e-943f-ee379f9665c3"
      },
      "execution_count": 1,
      "outputs": [
        {
          "output_type": "stream",
          "name": "stdout",
          "text": [
            "10\n"
          ]
        }
      ]
    },
    {
      "cell_type": "markdown",
      "source": [
        "##Exercício 2"
      ],
      "metadata": {
        "id": "kHVsy_vl2svL"
      }
    },
    {
      "cell_type": "code",
      "source": [
        "txt = \"Hello word\"\n",
        "txt[0]"
      ],
      "metadata": {
        "colab": {
          "base_uri": "https://localhost:8080/",
          "height": 35
        },
        "id": "mLx1HcFm2vnh",
        "outputId": "865833a2-1261-4872-beda-bea494aea81e"
      },
      "execution_count": 2,
      "outputs": [
        {
          "output_type": "execute_result",
          "data": {
            "text/plain": [
              "'H'"
            ],
            "application/vnd.google.colaboratory.intrinsic+json": {
              "type": "string"
            }
          },
          "metadata": {},
          "execution_count": 2
        }
      ]
    },
    {
      "cell_type": "markdown",
      "source": [
        "##Exercício 3"
      ],
      "metadata": {
        "id": "pFgipuvG2yFE"
      }
    },
    {
      "cell_type": "code",
      "source": [
        "x = \"Hello word\"\n",
        "x[2:5]"
      ],
      "metadata": {
        "colab": {
          "base_uri": "https://localhost:8080/",
          "height": 35
        },
        "id": "qReh_8CS23JS",
        "outputId": "e901964e-9cfc-45f3-8dee-5c818baad76b"
      },
      "execution_count": 3,
      "outputs": [
        {
          "output_type": "execute_result",
          "data": {
            "text/plain": [
              "'llo'"
            ],
            "application/vnd.google.colaboratory.intrinsic+json": {
              "type": "string"
            }
          },
          "metadata": {},
          "execution_count": 3
        }
      ]
    },
    {
      "cell_type": "markdown",
      "source": [
        "##Exercício 4"
      ],
      "metadata": {
        "id": "u39lNGTj24ao"
      }
    },
    {
      "cell_type": "code",
      "source": [
        "x = \"hello word\"\n",
        "x.upper()"
      ],
      "metadata": {
        "colab": {
          "base_uri": "https://localhost:8080/",
          "height": 35
        },
        "id": "tVHxAZXf260z",
        "outputId": "bf659719-f589-4165-cd6e-1bed3a4b83ea"
      },
      "execution_count": 4,
      "outputs": [
        {
          "output_type": "execute_result",
          "data": {
            "text/plain": [
              "'HELLO WORD'"
            ],
            "application/vnd.google.colaboratory.intrinsic+json": {
              "type": "string"
            }
          },
          "metadata": {},
          "execution_count": 4
        }
      ]
    },
    {
      "cell_type": "markdown",
      "source": [
        "##Exercício 5"
      ],
      "metadata": {
        "id": "WbL3nwAz289S"
      }
    },
    {
      "cell_type": "code",
      "source": [
        "txt = \"Eu gosto de vijar, tomar vinho, de estudar estudar programação, de estudar Pyhon\"\n",
        "txt.count('de')"
      ],
      "metadata": {
        "colab": {
          "base_uri": "https://localhost:8080/"
        },
        "id": "AeiQAmq43AcS",
        "outputId": "dd777511-251f-42c2-840a-605f252a6642"
      },
      "execution_count": 5,
      "outputs": [
        {
          "output_type": "execute_result",
          "data": {
            "text/plain": [
              "3"
            ]
          },
          "metadata": {},
          "execution_count": 5
        }
      ]
    },
    {
      "cell_type": "markdown",
      "source": [
        "##Exercício 6"
      ],
      "metadata": {
        "id": "1Qa2n_D83EAP"
      }
    },
    {
      "cell_type": "code",
      "source": [
        "txt = \"Eu gosto de vijar, tomar vinho, de estudar estudar programação, de estudar Pyhon\"\n",
        "txt.split(',')"
      ],
      "metadata": {
        "colab": {
          "base_uri": "https://localhost:8080/"
        },
        "id": "4maLRlcl3GGl",
        "outputId": "2fa0f8b0-4c5b-4057-f692-b3a41375e971"
      },
      "execution_count": 6,
      "outputs": [
        {
          "output_type": "execute_result",
          "data": {
            "text/plain": [
              "['Eu gosto de vijar',\n",
              " ' tomar vinho',\n",
              " ' de estudar estudar programação',\n",
              " ' de estudar Pyhon']"
            ]
          },
          "metadata": {},
          "execution_count": 6
        }
      ]
    },
    {
      "cell_type": "markdown",
      "source": [
        "##Exercício 7"
      ],
      "metadata": {
        "id": "48ahFWep3Jvw"
      }
    },
    {
      "cell_type": "code",
      "source": [
        "txt = str(input(\"Digite uma frase: \"))\n",
        "\n",
        "rp = txt.replace(\" \",\"#\")\n",
        "print(rp)"
      ],
      "metadata": {
        "colab": {
          "base_uri": "https://localhost:8080/"
        },
        "id": "IXGnhaeN3Myb",
        "outputId": "6763ffe2-35d4-4452-af9d-ff740592afba"
      },
      "execution_count": 7,
      "outputs": [
        {
          "output_type": "stream",
          "name": "stdout",
          "text": [
            "Digite uma frase: O sol está muito quente\n",
            "O#sol#está#muito#quente\n"
          ]
        }
      ]
    },
    {
      "cell_type": "markdown",
      "source": [
        "##Exercício 8"
      ],
      "metadata": {
        "id": "ZTQA5MIL3UsG"
      }
    },
    {
      "cell_type": "code",
      "source": [
        "txt = str(input(\"Digite uma palavra palíndromas: \"))\n",
        "txt2 = str(input(\"Digite uma palavra palíndroma: \"))\n",
        "\n",
        "if txt[::-1] == txt:\n",
        "  print(\"A primeira palavra é palídroma\")\n",
        "  if txt2[::-1] == txt2:\n",
        "    print(\"A segunda palavra é palíndroma\")\n",
        "  else:\n",
        "    print(\"A segunda palavra não é palídroma dela mesma\")\n",
        "  if txt[::-1] == txt2:\n",
        "    print(\"Essa palavras formam um palíndromo\")\n",
        "  else:\n",
        "    print(\"Essas palavras não são palídromas juntas\")\n",
        "else:\n",
        "  print(\"A primeira palavra não é palídroma dela mesma\")"
      ],
      "metadata": {
        "colab": {
          "base_uri": "https://localhost:8080/"
        },
        "id": "2A3OEyV73aLU",
        "outputId": "ccc7cae7-9bbc-4bd0-902f-a5d4acc84f67"
      },
      "execution_count": 8,
      "outputs": [
        {
          "output_type": "stream",
          "name": "stdout",
          "text": [
            "Digite uma palavra palíndromas: arara\n",
            "Digite uma palavra palíndroma: natan\n",
            "A primeira palavra é palídroma\n",
            "A segunda palavra é palíndroma\n",
            "Essas palavras não são palídromas juntas\n"
          ]
        }
      ]
    },
    {
      "cell_type": "markdown",
      "source": [
        "##Exercício 9"
      ],
      "metadata": {
        "id": "gtLIlUQ53jG0"
      }
    },
    {
      "cell_type": "code",
      "source": [
        "nome = str(input(\"Digite o seu nome: \"))\n",
        "\n",
        "nome.upper()[::-1]"
      ],
      "metadata": {
        "colab": {
          "base_uri": "https://localhost:8080/",
          "height": 53
        },
        "id": "IkdXr9Nm3nHh",
        "outputId": "7d60db73-62df-4624-f196-ea8139c177b9"
      },
      "execution_count": 9,
      "outputs": [
        {
          "name": "stdout",
          "output_type": "stream",
          "text": [
            "Digite o seu nome: Lucas\n"
          ]
        },
        {
          "output_type": "execute_result",
          "data": {
            "text/plain": [
              "'SACUL'"
            ],
            "application/vnd.google.colaboratory.intrinsic+json": {
              "type": "string"
            }
          },
          "metadata": {},
          "execution_count": 9
        }
      ]
    },
    {
      "cell_type": "markdown",
      "source": [
        "#Exercício de tuplas, listas e dicionário"
      ],
      "metadata": {
        "id": "0wChLuzz3sHF"
      }
    },
    {
      "cell_type": "markdown",
      "source": [
        "##Exercício 1"
      ],
      "metadata": {
        "id": "gKZYmWzg4bES"
      }
    },
    {
      "cell_type": "code",
      "source": [
        "cidades = [\"Mauá\", \"Riberão Pires\", \"Santo André\", \"Guarulhos\", \"Salvador\"]\n",
        "cidades\n",
        "\n",
        "cidades.append(\"Paraíba\")\n",
        "print(cidades)\n",
        "\n",
        "cidades.pop(1)\n",
        "print(cidades)"
      ],
      "metadata": {
        "colab": {
          "base_uri": "https://localhost:8080/"
        },
        "id": "zQYqk4FF4LZX",
        "outputId": "12e3b397-8cd8-4a3b-aefa-cb251c9ebebe"
      },
      "execution_count": 10,
      "outputs": [
        {
          "output_type": "stream",
          "name": "stdout",
          "text": [
            "['Mauá', 'Riberão Pires', 'Santo André', 'Guarulhos', 'Salvador', 'Paraíba']\n",
            "['Mauá', 'Santo André', 'Guarulhos', 'Salvador', 'Paraíba']\n"
          ]
        }
      ]
    },
    {
      "cell_type": "code",
      "source": [
        "cidades"
      ],
      "metadata": {
        "colab": {
          "base_uri": "https://localhost:8080/"
        },
        "id": "RiARmerV4WzN",
        "outputId": "8d5ceffa-7682-4247-9b1c-236abfa619e4"
      },
      "execution_count": 11,
      "outputs": [
        {
          "output_type": "execute_result",
          "data": {
            "text/plain": [
              "['Mauá', 'Santo André', 'Guarulhos', 'Salvador', 'Paraíba']"
            ]
          },
          "metadata": {},
          "execution_count": 11
        }
      ]
    },
    {
      "cell_type": "markdown",
      "source": [
        "##Exercício 2"
      ],
      "metadata": {
        "id": "SCRn2cIB4aFW"
      }
    },
    {
      "cell_type": "code",
      "source": [
        "cores = (\"vermelho\", \"verde\", \"azul\",\"Preto\")"
      ],
      "metadata": {
        "id": "j0LYkSom4h5K"
      },
      "execution_count": 13,
      "outputs": []
    },
    {
      "cell_type": "code",
      "source": [
        "novas_cores = cores + (\"Branco\",)\n",
        "print(novas_cores)"
      ],
      "metadata": {
        "colab": {
          "base_uri": "https://localhost:8080/"
        },
        "id": "bl9GtQw64wWV",
        "outputId": "ad772e7a-9244-4e52-962d-2a99ac9050dd"
      },
      "execution_count": 14,
      "outputs": [
        {
          "output_type": "stream",
          "name": "stdout",
          "text": [
            "('vermelho', 'verde', 'azul', 'Preto', 'Branco')\n"
          ]
        }
      ]
    },
    {
      "cell_type": "code",
      "source": [
        "novas_cores"
      ],
      "metadata": {
        "colab": {
          "base_uri": "https://localhost:8080/"
        },
        "id": "YGA_-ZjZ4pew",
        "outputId": "be18c344-6507-4970-c735-ce9d5dcce2fa"
      },
      "execution_count": 15,
      "outputs": [
        {
          "output_type": "execute_result",
          "data": {
            "text/plain": [
              "('vermelho', 'verde', 'azul', 'Preto', 'Branco')"
            ]
          },
          "metadata": {},
          "execution_count": 15
        }
      ]
    },
    {
      "cell_type": "markdown",
      "source": [
        "##Exercício 3"
      ],
      "metadata": {
        "id": "pxh6Daci4lSU"
      }
    },
    {
      "cell_type": "code",
      "source": [
        "estudante = {\n",
        "    \"nome\": \"Pietro\",\n",
        "    \"idade\": 15,\n",
        "    \"curso\": \"Informática\"\n",
        "}"
      ],
      "metadata": {
        "id": "d7TcWEun44qu"
      },
      "execution_count": 16,
      "outputs": []
    },
    {
      "cell_type": "code",
      "source": [
        "estudante[\"idade\"] = 16\n",
        "print(estudante)"
      ],
      "metadata": {
        "colab": {
          "base_uri": "https://localhost:8080/"
        },
        "id": "fe9Op7au455a",
        "outputId": "c61e392a-315d-4710-c85b-6a9b2217d77d"
      },
      "execution_count": 17,
      "outputs": [
        {
          "output_type": "stream",
          "name": "stdout",
          "text": [
            "{'nome': 'Pietro', 'idade': 16, 'curso': 'Informática'}\n"
          ]
        }
      ]
    },
    {
      "cell_type": "code",
      "source": [
        "estudante[\"nota\"] = \"10\"\n",
        "print(estudante)"
      ],
      "metadata": {
        "colab": {
          "base_uri": "https://localhost:8080/"
        },
        "id": "IygB6IIX47Xl",
        "outputId": "83ea96f8-e5d7-4900-a333-730fe30e4987"
      },
      "execution_count": 18,
      "outputs": [
        {
          "output_type": "stream",
          "name": "stdout",
          "text": [
            "{'nome': 'Pietro', 'idade': 16, 'curso': 'Informática', 'nota': '10'}\n"
          ]
        }
      ]
    },
    {
      "cell_type": "code",
      "source": [
        "estudante"
      ],
      "metadata": {
        "colab": {
          "base_uri": "https://localhost:8080/"
        },
        "id": "LFAZI5z049R8",
        "outputId": "816dd525-3287-4907-9ebb-4e7a66897632"
      },
      "execution_count": 19,
      "outputs": [
        {
          "output_type": "execute_result",
          "data": {
            "text/plain": [
              "{'nome': 'Pietro', 'idade': 16, 'curso': 'Informática', 'nota': '10'}"
            ]
          },
          "metadata": {},
          "execution_count": 19
        }
      ]
    },
    {
      "cell_type": "markdown",
      "source": [
        "##Exercício 4"
      ],
      "metadata": {
        "id": "6fVSEXS85C85"
      }
    },
    {
      "cell_type": "code",
      "source": [
        "produto1 = {\n",
        "    \"nome\": \"sabonete\",\n",
        "    \"preço\": 22,\n",
        "}\n",
        "produto2 = {\n",
        "    \"nome\": \"shampoo\",\n",
        "    \"preço\": 25,\n",
        "}\n",
        "produto3 = {\n",
        "    \"nome\": \"Condicionador\",\n",
        "    \"preço\": 23,\n",
        "}\n",
        "produtos = [produto1,produto2]\n",
        "produtos.append(produto3)\n",
        "produto1[\"preço\"] = 22\n",
        "print(produtos)\n"
      ],
      "metadata": {
        "colab": {
          "base_uri": "https://localhost:8080/"
        },
        "id": "YsS-79Ed5Mur",
        "outputId": "a8e7687c-a82c-4117-f2fb-6b756d665b01"
      },
      "execution_count": 20,
      "outputs": [
        {
          "output_type": "stream",
          "name": "stdout",
          "text": [
            "[{'nome': 'sabonete', 'preço': 22}, {'nome': 'shampoo', 'preço': 25}, {'nome': 'Condicionador', 'preço': 23}]\n"
          ]
        }
      ]
    },
    {
      "cell_type": "markdown",
      "source": [
        "##Exercício 5"
      ],
      "metadata": {
        "id": "5xL1tx3Z5XPn"
      }
    },
    {
      "cell_type": "code",
      "source": [
        "nomes = [\n",
        "    (\"Lucas\", 15),\n",
        "    (\"Pietro\",9),\n",
        "    (\"Cauê\",19),\n",
        "    (\"Eduardo\",17)\n",
        "]"
      ],
      "metadata": {
        "id": "0UyjVLva5Z6n"
      },
      "execution_count": 21,
      "outputs": []
    },
    {
      "cell_type": "code",
      "source": [
        "mais_velho = 0\n",
        "nome_velho = \"\"\n",
        "\n",
        "if (nomes[0][1]> mais_velho):\n",
        "  mais_velho = nomes[0][1]\n",
        "  nome_velho = nomes[0][0]\n",
        "\n",
        "\n",
        "if (nomes[1][1]> mais_velho):\n",
        "  mais_velho = nomes[1][1]\n",
        "  nome_velho = nomes[1][0]\n",
        "\n",
        "\n",
        "if (nomes[2][1]> mais_velho):\n",
        "  mais_velho = nomes[2][1]\n",
        "  nome_velho = nomes[2][0]\n",
        "\n",
        "\n",
        "if (nomes[3][1]> mais_velho):\n",
        "  mais_velho = nomes[3][1]\n",
        "  nome_velho = nomes[3][0]\n",
        "\n",
        "media = (nomes[0][1] + nomes[1][1] + nomes[2][1] + nomes[3][1])/4\n",
        "\n",
        "print(f\"O nome do mais velho é {nome_velho}, com {mais_velho} anos e a média das idades é {media}\")\n"
      ],
      "metadata": {
        "colab": {
          "base_uri": "https://localhost:8080/"
        },
        "id": "w-wOLc0j5bxz",
        "outputId": "c65684b5-9264-491d-a81f-6f3e4847c654"
      },
      "execution_count": 22,
      "outputs": [
        {
          "output_type": "stream",
          "name": "stdout",
          "text": [
            "O nome do mais velho é Cauê, com 19 anos e a média das idades é 15.0\n"
          ]
        }
      ]
    }
  ]
}