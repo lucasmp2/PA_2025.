{
  "nbformat": 4,
  "nbformat_minor": 0,
  "metadata": {
    "colab": {
      "provenance": [],
      "authorship_tag": "ABX9TyNn5OrT7wgPGMK5+JvzfVzC",
      "include_colab_link": true
    },
    "kernelspec": {
      "name": "python3",
      "display_name": "Python 3"
    },
    "language_info": {
      "name": "python"
    }
  },
  "cells": [
    {
      "cell_type": "markdown",
      "metadata": {
        "id": "view-in-github",
        "colab_type": "text"
      },
      "source": [
        "<a href=\"https://colab.research.google.com/github/lucasmp2/PA_2025./blob/main/calculodamedia.ipynb\" target=\"_parent\"><img src=\"https://colab.research.google.com/assets/colab-badge.svg\" alt=\"Open In Colab\"/></a>"
      ]
    },
    {
      "cell_type": "markdown",
      "source": [
        "#Cálculo da Média"
      ],
      "metadata": {
        "id": "jPzXtrc_t_KJ"
      }
    },
    {
      "cell_type": "markdown",
      "source": [
        "##Recebe notas das provas"
      ],
      "metadata": {
        "id": "xTGbU0pVuKjP"
      }
    },
    {
      "cell_type": "code",
      "source": [
        "nota1 = float(input(\"digite o valor da primeira nota: \"))\n",
        "nota2 = float(input(\"digite o valor da segunda nota: \"))"
      ],
      "metadata": {
        "colab": {
          "base_uri": "https://localhost:8080/"
        },
        "id": "_G94YOJ_uLMC",
        "outputId": "97be6520-fd91-460c-f9d1-9242c4fe84df"
      },
      "execution_count": 2,
      "outputs": [
        {
          "name": "stdout",
          "output_type": "stream",
          "text": [
            "digite o valor da primeira nota: 7\n",
            "digite o valor da segunda nota: 9\n"
          ]
        }
      ]
    },
    {
      "cell_type": "markdown",
      "source": [
        "##Calculo da Média"
      ],
      "metadata": {
        "id": "8TdFVsTOu64k"
      }
    },
    {
      "cell_type": "code",
      "source": [
        "media = (nota1 + nota2)/2"
      ],
      "metadata": {
        "id": "gANhwziKuoCl"
      },
      "execution_count": 4,
      "outputs": []
    },
    {
      "cell_type": "markdown",
      "source": [
        "##Média"
      ],
      "metadata": {
        "id": "qVffo63Tu-VT"
      }
    },
    {
      "cell_type": "code",
      "source": [
        "print(f\"A média é: {media}\")"
      ],
      "metadata": {
        "colab": {
          "base_uri": "https://localhost:8080/"
        },
        "id": "C1h9wYbvvClg",
        "outputId": "1a377659-30c4-4194-eade-f736b67476e3"
      },
      "execution_count": 5,
      "outputs": [
        {
          "output_type": "stream",
          "name": "stdout",
          "text": [
            "A média é: 8.0\n"
          ]
        }
      ]
    }
  ]
}