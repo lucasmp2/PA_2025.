{
  "nbformat": 4,
  "nbformat_minor": 0,
  "metadata": {
    "colab": {
      "provenance": [],
      "authorship_tag": "ABX9TyPbfLytfcuyVLe2FOYm8LCG",
      "include_colab_link": true
    },
    "kernelspec": {
      "name": "python3",
      "display_name": "Python 3"
    },
    "language_info": {
      "name": "python"
    }
  },
  "cells": [
    {
      "cell_type": "markdown",
      "metadata": {
        "id": "view-in-github",
        "colab_type": "text"
      },
      "source": [
        "<a href=\"https://colab.research.google.com/github/lucasmp2/PA_2025./blob/main/condicionais/condicionais.ipynb\" target=\"_parent\"><img src=\"https://colab.research.google.com/assets/colab-badge.svg\" alt=\"Open In Colab\"/></a>"
      ]
    },
    {
      "cell_type": "markdown",
      "source": [
        "#Tipo de condicionais"
      ],
      "metadata": {
        "id": "5GgMhfy_DoeL"
      }
    },
    {
      "cell_type": "markdown",
      "source": [
        "##Condicionais simples: possui apenas duas possibilidades (True or False)"
      ],
      "metadata": {
        "id": "ii2vEY3TDtaI"
      }
    },
    {
      "cell_type": "code",
      "source": [
        "#Entrada\n",
        "nota1 = float(input(\"digite o valor da nota 1: \"))\n",
        "nota2 = float(input(\"digite o valor da nota 2: \"))\n",
        "nota3 = float(input(\"digite o valor da nota 3: \"))\n",
        "\n",
        "nota = (nota1 + nota2 + nota3)/3\n",
        "print(media)"
      ],
      "metadata": {
        "colab": {
          "base_uri": "https://localhost:8080/"
        },
        "id": "_jUzwkbQD_Sr",
        "outputId": "deccca7a-0fd6-4941-c316-e897e4c68bbf"
      },
      "execution_count": null,
      "outputs": [
        {
          "output_type": "stream",
          "name": "stdout",
          "text": [
            "digite o valor da nota 1: 7\n",
            "digite o valor da nota 2: 8\n",
            "digite o valor da nota 3: 7\n",
            "7.333333333333333\n"
          ]
        }
      ]
    },
    {
      "cell_type": "code",
      "source": [
        "#Processamento\n",
        "if(nota >= 7):\n",
        "  print(\"você foi aprovado!\")\n",
        "else:\n",
        "  print(\"você foi reprovado!\")"
      ],
      "metadata": {
        "colab": {
          "base_uri": "https://localhost:8080/"
        },
        "id": "BoEK_tsLEZVU",
        "outputId": "0bcd4f56-b81a-495a-9450-5dc025d9a756"
      },
      "execution_count": null,
      "outputs": [
        {
          "output_type": "stream",
          "name": "stdout",
          "text": [
            "você foi aprovado!\n"
          ]
        }
      ]
    },
    {
      "cell_type": "code",
      "source": [
        "#Primeira nota\n",
        "nota = float(input(\"Digite o valor da nota: \"))\n",
        "if (nota>=0 and nota<=10):\n",
        "  print(\"nota 1 computada: \")\n",
        "  nota1 = nota\n",
        "else:\n",
        "  print(\"essa nota não foi computada pois não esta entre 0 e 10!\")\n",
        "\n",
        "#Segunda nota\n",
        "nota = float(input(\"Digite o valor da nota2: \"))\n",
        "if (nota>=0 and nota<=10):\n",
        "  print(\"nota 2 computada: \")\n",
        "  nota2 = nota\n",
        "else:\n",
        "  print(\"essa nota não foi computada pois não esta entre 0 e 10!\")\n",
        "\n",
        "#Terceira nota\n",
        "nota = float(input(\"Digite o valor da nota3: \"))\n",
        "if (nota>=0 and nota<=10):\n",
        "  print(\"nota 3 computada: \")\n",
        "  nota3 = nota\n",
        "else:\n",
        "  print(\"essa nota não foi computada pois não esta entre 0 e 10!\")"
      ],
      "metadata": {
        "colab": {
          "base_uri": "https://localhost:8080/"
        },
        "id": "96qs-lOdItuL",
        "outputId": "882ab60d-1c83-4a6b-cd33-c76b50f49243"
      },
      "execution_count": null,
      "outputs": [
        {
          "output_type": "stream",
          "name": "stdout",
          "text": [
            "Digite o valor da nota: 3\n",
            "nota 1 computada: \n",
            "Digite o valor da nota2: 3\n",
            "nota 2 computada: \n",
            "Digite o valor da nota3: 3\n",
            "nota 3 computada: \n"
          ]
        }
      ]
    },
    {
      "cell_type": "code",
      "source": [
        "#Processamento\n",
        "if(nota >= 7):\n",
        "  print(\"você foi aprovado!\")\n",
        "else:\n",
        "  print(\"você foi reprovado!\")"
      ],
      "metadata": {
        "colab": {
          "base_uri": "https://localhost:8080/"
        },
        "id": "cDEX02ghOMHk",
        "outputId": "1bffa406-80e4-46d2-dba9-6eeb63374c2c"
      },
      "execution_count": null,
      "outputs": [
        {
          "output_type": "stream",
          "name": "stdout",
          "text": [
            "você foi reprovado!\n"
          ]
        }
      ]
    },
    {
      "cell_type": "markdown",
      "source": [
        "#Condicional composto\n",
        "\n",
        "## possui mais doque duas opições"
      ],
      "metadata": {
        "id": "FN69GgpHMPiC"
      }
    },
    {
      "cell_type": "code",
      "source": [
        "#Primeira nota\n",
        "nota = float(input(\"Digite o valor da nota: \"))\n",
        "if (nota>=0 and nota<=10):\n",
        "  print(\"nota 1 computada: \")\n",
        "  nota1 = nota\n",
        "else:\n",
        "  print(\"essa nota não foi computada pois não esta entre 0 e 10!\")\n",
        "\n",
        "#Segunda nota\n",
        "nota = float(input(\"Digite o valor da nota2: \"))\n",
        "if (nota>=0 and nota<=10):\n",
        "  print(\"nota 2 computada: \")\n",
        "  nota2 = nota\n",
        "else:\n",
        "  print(\"essa nota não foi computada pois não esta entre 0 e 10!\")\n",
        "\n",
        "#Terceira nota\n",
        "nota = float(input(\"Digite o valor da nota3: \"))\n",
        "if (nota>=0 and nota<=10):\n",
        "  print(\"nota 3 computada: \")\n",
        "  nota3 = nota\n",
        "else:\n",
        "  print(\"essa nota não foi computada pois não esta entre 0 e 10!\")\n",
        "\n",
        "#Média\n",
        "media = (nota1 + nota2 + nota3)/3\n",
        "print(media)"
      ],
      "metadata": {
        "colab": {
          "base_uri": "https://localhost:8080/"
        },
        "id": "59g3KjaWObck",
        "outputId": "01c03521-1316-47c6-9913-c6292cecf2ad"
      },
      "execution_count": null,
      "outputs": [
        {
          "output_type": "stream",
          "name": "stdout",
          "text": [
            "Digite o valor da nota: 5\n",
            "nota 1 computada: \n",
            "Digite o valor da nota2: 6\n",
            "nota 2 computada: \n",
            "Digite o valor da nota3: 7\n",
            "nota 3 computada: \n",
            "6.0\n"
          ]
        }
      ]
    },
    {
      "cell_type": "code",
      "source": [
        "if (media<5):\n",
        "  print(\"sua menção final é I\")\n",
        "\n",
        "elif (media>=5 and media <6.5):\n",
        "  print(\"sua menção final é R\")\n",
        "\n",
        "elif (media>=6.5 and media<8.5):\n",
        "  print(\"sua menção final é B\")\n",
        "\n",
        "else:\n",
        "  print(\"sua menção final é MB\")"
      ],
      "metadata": {
        "colab": {
          "base_uri": "https://localhost:8080/"
        },
        "id": "Fid7SQaJPGKP",
        "outputId": "e841cef4-56c7-4b2c-bf35-44a0484bbd22"
      },
      "execution_count": null,
      "outputs": [
        {
          "output_type": "stream",
          "name": "stdout",
          "text": [
            "sua menção final é R\n"
          ]
        }
      ]
    },
    {
      "cell_type": "code",
      "source": [
        "usuariocerto = 'lucas'\n",
        "senhacerta = \"1234\"\n",
        "\n",
        "usuario = input(\"digite o seu usuario: \")\n",
        "senha = input(\"digite a sua senha: \")\n",
        "\n",
        "if (usuario == usuariocerto):\n",
        "  if (senha == senhacerta):\n",
        "    print(\"usuario logado\")\n",
        "  else:\n",
        "     print(\"senha invalida\")\n",
        "else:\n",
        "  print(\"usuario invalido\")"
      ],
      "metadata": {
        "colab": {
          "base_uri": "https://localhost:8080/"
        },
        "id": "Ylb7VUy8Smqo",
        "outputId": "f134e907-6e27-4017-8a0e-d6847c51fb41"
      },
      "execution_count": null,
      "outputs": [
        {
          "output_type": "stream",
          "name": "stdout",
          "text": [
            "digite o seu usuario: lucas\n",
            "digite a sua senha: 4321\n",
            "senha invalida\n"
          ]
        }
      ]
    },
    {
      "cell_type": "markdown",
      "source": [
        "#Lista de exercicios"
      ],
      "metadata": {
        "id": "q6PUG2_FaWJR"
      }
    },
    {
      "cell_type": "markdown",
      "source": [
        "##1 triangulo"
      ],
      "metadata": {
        "id": "UvCjyrFqaeer"
      }
    },
    {
      "cell_type": "code",
      "source": [
        "lado1 = float(input(\"digite o valor do lado 1 do triangulo: \"))\n",
        "lado2 = float(input(\"digite o valor do lado 2 do triangulo: \"))\n",
        "lado3 = float(input(\"digite o valor do lado 3 do triangulo: \"))\n",
        "\n",
        "if ((lado1 + lado2 > lado3) and (lado1 + lado3 > lado2) and (lado2 + lado3 > lado1)):\n",
        "  if (lado1 == lado2 == lado3):\n",
        "    print(\"Triangulo Equilátero\")\n",
        "  elif((lado1 != lado2 and lado1 != lado3)):\n",
        "    print(\"Triangulo escaleno\")\n",
        "  else:\n",
        "    print(\"Triangulo Isóceles\")\n",
        "else:\n",
        "  print(\"lados não formam um triangulo!\")"
      ],
      "metadata": {
        "id": "3VWMlqh4awWg",
        "colab": {
          "base_uri": "https://localhost:8080/"
        },
        "outputId": "20ecc40e-a072-4cd0-81e1-21ce5fda213f"
      },
      "execution_count": null,
      "outputs": [
        {
          "output_type": "stream",
          "name": "stdout",
          "text": [
            "digite o valor do lado 1 do triangulo: 10\n",
            "digite o valor do lado 2 do triangulo: 5\n",
            "digite o valor do lado 3 do triangulo: 5\n",
            "lados não formam um triangulo!\n"
          ]
        }
      ]
    },
    {
      "cell_type": "markdown",
      "source": [
        "#2 ímpar ou par"
      ],
      "metadata": {
        "id": "2RzfpTBy3HTh"
      }
    },
    {
      "cell_type": "code",
      "source": [
        "num = int(input(\"Digite um número: \"))\n",
        "if (num % 2 == 0):\n",
        "    print(\"O número é par\")\n",
        "else:\n",
        "    print(\"O número é ímpar\")\n"
      ],
      "metadata": {
        "colab": {
          "base_uri": "https://localhost:8080/"
        },
        "id": "Yrif--536fdN",
        "outputId": "98f87f67-44ff-401a-f731-c83583247d17"
      },
      "execution_count": null,
      "outputs": [
        {
          "output_type": "stream",
          "name": "stdout",
          "text": [
            "Digite um número: 4\n",
            "O número é par\n"
          ]
        }
      ]
    },
    {
      "cell_type": "markdown",
      "source": [
        "#3 IMC"
      ],
      "metadata": {
        "id": "Bi3Q6OBv_9no"
      }
    },
    {
      "cell_type": "code",
      "source": [
        "altura = float(input(\"Digite a sua altura (em metros): \"))\n",
        "peso = float(input(\"Digite o seu peso (em kg): \"))\n",
        "\n",
        "imc = peso / (altura ** 2)\n",
        "\n",
        "print(f\"Seu IMC é: {imc}\")\n",
        "\n",
        "if (imc < 18.5):\n",
        "    print(\"Abaixo do peso\")\n",
        "elif (18.5 <= imc <= 24.9):\n",
        "    print(\"Peso normal\")\n",
        "elif (25 <= imc <= 29.9):\n",
        "    print(\"Sobrepeso\")\n",
        "elif (30 <= imc <= 34.9):\n",
        "    print(\"Obesidade grau 1\")\n",
        "elif (35 <= imc <= 39.9):\n",
        "    print(\"Obesidade grau 2\")\n",
        "else:\n",
        "    print(\"Obesidade grau 3\")"
      ],
      "metadata": {
        "colab": {
          "base_uri": "https://localhost:8080/"
        },
        "id": "xfNNcdi1AE_n",
        "outputId": "030949b1-3af9-4790-f710-1729b9b142d0"
      },
      "execution_count": null,
      "outputs": [
        {
          "output_type": "stream",
          "name": "stdout",
          "text": [
            "Digite a sua altura (em metros): 1.60\n",
            "Digite o seu peso (em kg): 45\n",
            "Seu IMC é: 17.578124999999996\n",
            "Abaixo do peso\n"
          ]
        }
      ]
    },
    {
      "cell_type": "markdown",
      "source": [
        "#4 caixa eletrônico\n"
      ],
      "metadata": {
        "id": "suEcKZlaEXCR"
      }
    },
    {
      "cell_type": "code",
      "source": [
        "usuariocerto = 'cliente'\n",
        "senhacerta = \"1234\"\n",
        "\n",
        "usuario = input(\"digite o seu usuario: \")\n",
        "senha = input(\"digite a sua senha: \")\n",
        "\n",
        "if (usuario == usuariocerto):\n",
        "  if (senha == senhacerta):\n",
        "    print(\"Conta logada, Seu saldo é de R$23,95\")\n",
        "  else:\n",
        "     print(\"Usuario ou senha incorreto. Tente novamente.\")\n",
        "else:\n",
        "  print(\"Usuario ou senha incorreto. Tente novamente.\")"
      ],
      "metadata": {
        "colab": {
          "base_uri": "https://localhost:8080/"
        },
        "id": "yOwiLcmlEmyb",
        "outputId": "50485450-a704-43c1-95c0-a2ef28925cd1"
      },
      "execution_count": null,
      "outputs": [
        {
          "output_type": "stream",
          "name": "stdout",
          "text": [
            "digite o seu usuario: cliente\n",
            "digite a sua senha: 1234\n",
            "Conta logada, Seu saldo é de R$23,95\n"
          ]
        }
      ]
    },
    {
      "cell_type": "markdown",
      "source": [
        "#5 Sistema bancario\n"
      ],
      "metadata": {
        "id": "F9mf2QF2GCQs"
      }
    },
    {
      "cell_type": "code",
      "source": [
        "limite = 3000\n",
        "saldo = 50\n",
        "\n",
        "usuariocerto = 'cliente'\n",
        "senhacerta = \"1234\"\n",
        "\n",
        "usuario = input(\"digite o seu usuario: \")\n",
        "if (usuario == usuariocerto):\n",
        "    senha = input(\"digite a sua senha: \")\n",
        "    if (senha == senhacerta):\n",
        "      print(\"Conta logada\")\n",
        "    else:\n",
        "     print(\"senha incorreto. Tente novamente.\")\n",
        "else:\n",
        "  print(\"Usuario incorreto. Tente novamente.\")\n",
        "\n",
        "if (usuario == usuariocerto and senha == senhacerta):\n",
        "  print(\"Oque você deseja fazer? \")\n",
        "  print(\"Digite 1 para ver saldo\")\n",
        "  print(\"Digite 2 para sacar\")\n",
        "  print(\"Digite 3 para depositar\")\n",
        "  escolha = input(\"Digite a sua escolha: \")\n",
        "\n",
        "\n",
        "  if escolha == \"1\":\n",
        "    print(f\"Seu saldo é de: \", {saldo})\n",
        "  elif escolha == \"2\":\n",
        "    saque = float(input(\"Digite o quanto deseja sacar: \"))\n",
        "    if saque <= saldo + limite:\n",
        "      print(f\"Saque concluido. Seu saldo atual agora é de: \", {saldo - saque} and {limite - saque})\n",
        "    else:\n",
        "      print(\"Saldo insuficiente. Tente novamente.\")\n",
        "\n",
        "if escolha == \"3\":\n",
        "  depositar = float(input(\"Digite o quanto deseja depositar: \"))1\n",
        "  print(\"O seu saldo agora é de: \", {saldo + depositar})"
      ],
      "metadata": {
        "colab": {
          "base_uri": "https://localhost:8080/"
        },
        "id": "DeAk1xxzJTNM",
        "outputId": "9995f4dc-e45c-49cd-9513-785be42256bb"
      },
      "execution_count": 55,
      "outputs": [
        {
          "output_type": "stream",
          "name": "stdout",
          "text": [
            "digite o seu usuario: cliente\n",
            "digite a sua senha: 1234\n",
            "Conta logada\n",
            "Oque você deseja fazer? \n",
            "Digite 1 para ver saldo\n",
            "Digite 2 para sacar\n",
            "Digite 3 para depositar\n",
            "Digite a sua escolha: 3\n",
            "Digite o quanto deseja depositar: 30\n",
            "O seu saldo agora é de:  {80.0}\n"
          ]
        }
      ]
    },
    {
      "cell_type": "markdown",
      "source": [
        "#6 competição de volei"
      ],
      "metadata": {
        "id": "Ur560XZ6Lo4W"
      }
    },
    {
      "cell_type": "code",
      "source": [
        "altura = float(input(\"Digite a sua altura: \"))\n",
        "idade = float(input(\"Digite a sua idade: \"))\n",
        "\n",
        "if ((altura >= 1.75) and (idade >= 18)):\n",
        "  print(\"Você pode competir no capmpeonato de volei!\")\n",
        "else:\n",
        "  print(\"VocÊ não pode competir no capeonato de volei\")\n"
      ],
      "metadata": {
        "colab": {
          "base_uri": "https://localhost:8080/"
        },
        "id": "rRIKJA6LL-Z4",
        "outputId": "8a875688-a7bf-439c-bec6-e14f16f6cefc"
      },
      "execution_count": null,
      "outputs": [
        {
          "output_type": "stream",
          "name": "stdout",
          "text": [
            "Digite a sua altura: 1.75\n",
            "Digite a sua idade: 18\n",
            "Você pode competir no capmpeonato de volei!\n"
          ]
        }
      ]
    },
    {
      "cell_type": "markdown",
      "source": [
        "#7 Categoria de boxe por peso"
      ],
      "metadata": {
        "id": "jU0XOgD8RKv-"
      }
    },
    {
      "cell_type": "code",
      "source": [
        "peso = float(input(\"Digite seu peso em kg: \"))\n",
        "\n",
        "if peso < 52.2:\n",
        "    categoria = \"Peso Mosca\"\n",
        "elif peso <= 56.7:\n",
        "    categoria = \"Peso Galo\"\n",
        "elif peso <= 61.2:\n",
        "    categoria = \"Peso Pena\"\n",
        "elif peso <= 66.6:\n",
        "    categoria = \"Peso Leve\"\n",
        "elif peso <= 72.6:\n",
        "    categoria = \"Peso Meio-Médio\"\n",
        "elif peso <= 79.3:\n",
        "    categoria = \"Peso Médio\"\n",
        "elif peso <= 90.7:\n",
        "    categoria = \"Peso Meio-Pesado\"\n",
        "else:\n",
        "    categoria = \"Peso Pesado\"\n",
        "\n",
        "print(f\"Categoria: \", {categoria})"
      ],
      "metadata": {
        "id": "KnBZEiFKRRoK",
        "colab": {
          "base_uri": "https://localhost:8080/"
        },
        "outputId": "9264695d-859f-40bb-c242-55d709528733"
      },
      "execution_count": null,
      "outputs": [
        {
          "output_type": "stream",
          "name": "stdout",
          "text": [
            "Digite seu peso em kg: 54\n",
            "Categoria: Peso Galo\n"
          ]
        }
      ]
    },
    {
      "cell_type": "markdown",
      "source": [
        "#8 Calculo de imposto de renda"
      ],
      "metadata": {
        "id": "brGaw8muSImH"
      }
    },
    {
      "cell_type": "code",
      "source": [
        "salario = float(input(\"Digite seu salário: \"))\n",
        "\n",
        "if salario <= 1903.98:\n",
        "    imposto = 0\n",
        "elif salario <= 2826.65:\n",
        "    imposto = salario * 0.075\n",
        "elif salario <= 3751.05:\n",
        "    imposto = salario * 0.15\n",
        "elif salario <= 4664.68:\n",
        "    imposto = salario * 0.225\n",
        "else:\n",
        "    imposto = salario * 0.275\n",
        "\n",
        "print(f\"Imposto de Renda a pagar: R$\", {imposto})"
      ],
      "metadata": {
        "colab": {
          "base_uri": "https://localhost:8080/"
        },
        "id": "9qiNZhokSbDk",
        "outputId": "5c820531-ff6f-45af-98fd-2282c3d4e189"
      },
      "execution_count": null,
      "outputs": [
        {
          "output_type": "stream",
          "name": "stdout",
          "text": [
            "Digite seu salário: 2500\n",
            "Imposto de Renda a pagar: R$187.5\n"
          ]
        }
      ]
    },
    {
      "cell_type": "markdown",
      "source": [
        "#9 Aumento salarial"
      ],
      "metadata": {
        "id": "G2HsJBiJSjlj"
      }
    },
    {
      "cell_type": "code",
      "source": [
        "salario = float(input(\"Digite seu salário atual: \"))\n",
        "\n",
        "if salario <= 1500:\n",
        "    aumento = salario * 0.20\n",
        "elif salario <= 3000:\n",
        "    aumento = salario * 0.15\n",
        "else:\n",
        "    aumento = salario * 0.10\n",
        "\n",
        "novo_salario = salario + aumento\n",
        "\n",
        "print(f\"Aumento: R$\", {aumento})\n",
        "print(f\"Novo salário: R$\", {novo_salario})"
      ],
      "metadata": {
        "colab": {
          "base_uri": "https://localhost:8080/"
        },
        "id": "nzSo0S2aSnYm",
        "outputId": "5f44454d-1301-4399-af93-94f16c34ae57"
      },
      "execution_count": null,
      "outputs": [
        {
          "output_type": "stream",
          "name": "stdout",
          "text": [
            "Digite seu salário atual: 1500\n",
            "Aumento: R$ {300.0}\n",
            "Novo salário: R$ {1800.0}\n"
          ]
        }
      ]
    },
    {
      "cell_type": "markdown",
      "source": [
        "#10 Simulador de frete inteligente"
      ],
      "metadata": {
        "id": "6DjYJS8nSwkw"
      }
    },
    {
      "cell_type": "code",
      "source": [
        "peso = float(input(\"Digite o peso do pacote (em kg): \"))\n",
        "distancia = float(input(\"Digite a distância até o destino (em km): \"))\n",
        "\n",
        "if peso <= 2:\n",
        "    preco_por_100km = 5\n",
        "elif peso <= 5:\n",
        "    preco_por_100km = 8\n",
        "else:\n",
        "    preco_por_100km = 10\n",
        "\n",
        "frete = (distancia / 100) * preco_por_100km\n",
        "\n",
        "print(f\"Para um pacote de {peso}kg viajando {distancia}km, o valor do frete será R${frete}\")"
      ],
      "metadata": {
        "colab": {
          "base_uri": "https://localhost:8080/"
        },
        "id": "tD64YOubS0Gy",
        "outputId": "c491d783-5ba6-4d8b-f7db-45e4d3f2581a"
      },
      "execution_count": null,
      "outputs": [
        {
          "output_type": "stream",
          "name": "stdout",
          "text": [
            "Digite o peso do pacote (em kg): 5\n",
            "Digite a distância até o destino (em km): 7\n",
            "Para um pacote de 5.0kg viajando 7.0km, o valor do frete será R$0.56\n"
          ]
        }
      ]
    }
  ]
}