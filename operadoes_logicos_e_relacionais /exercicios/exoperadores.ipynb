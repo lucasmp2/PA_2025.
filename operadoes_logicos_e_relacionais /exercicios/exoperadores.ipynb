{
  "nbformat": 4,
  "nbformat_minor": 0,
  "metadata": {
    "colab": {
      "provenance": [],
      "authorship_tag": "ABX9TyP1DCqVj4suYsizjEvZsVCi",
      "include_colab_link": true
    },
    "kernelspec": {
      "name": "python3",
      "display_name": "Python 3"
    },
    "language_info": {
      "name": "python"
    }
  },
  "cells": [
    {
      "cell_type": "markdown",
      "metadata": {
        "id": "view-in-github",
        "colab_type": "text"
      },
      "source": [
        "<a href=\"https://colab.research.google.com/github/lucasmp2/PA_2025./blob/main/operadoes_logicos_e_relacionais%20/exercicios/exoperadores.ipynb\" target=\"_parent\"><img src=\"https://colab.research.google.com/assets/colab-badge.svg\" alt=\"Open In Colab\"/></a>"
      ]
    },
    {
      "cell_type": "markdown",
      "source": [],
      "metadata": {
        "id": "-mogpOTj7Z3y"
      }
    },
    {
      "cell_type": "markdown",
      "source": [
        "# Exercício 1"
      ],
      "metadata": {
        "id": "g5ImzTQE7baK"
      }
    },
    {
      "cell_type": "markdown",
      "source": [
        "##1- Solicite ao usuário a idade; Pergunte se está com responsável;\n",
        "\n",
        "Regra: A entrada para o cinema é permitida se a pessoa tiver 14 anos ou mais ou estiver acompanhada de um responsável.\n",
        "\n",
        "Na Saída informa se é True ou False, a possivel entrada no Cinema."
      ],
      "metadata": {
        "id": "uv8j2rBs7e7Q"
      }
    },
    {
      "cell_type": "code",
      "source": [
        "idade = int(input(\"Qual é a sua idade? \"))\n",
        "autorização = int(input(\"Tem 14 anos ou está acompanhada?\\nDigite 1 para sim \\ndigite 2 para não: \"))\n",
        "verificação = autorização==1\n",
        "podeentrar = (idade >= 14 and verificação)\n",
        "print (\"pode entrar no cinema?\", podeentrar)"
      ],
      "metadata": {
        "colab": {
          "base_uri": "https://localhost:8080/"
        },
        "id": "WXfoIeTa7rKo",
        "outputId": "370219b3-61a6-4c3c-9f25-f331f4a03700"
      },
      "execution_count": null,
      "outputs": [
        {
          "output_type": "stream",
          "name": "stdout",
          "text": [
            "Qual é a sua idade? 12\n",
            "Tem 14 anos ou está acompanhada?\n",
            "Digite 1 para sim \n",
            "digite 2 para não: 1\n",
            "pode entrar no cinema? False\n"
          ]
        }
      ]
    },
    {
      "cell_type": "markdown",
      "source": [
        "#2- Um jogador só recebe promoção se: tiver mais de 1000 pontos OU for assinante premium."
      ],
      "metadata": {
        "id": "aynuab8j97zY"
      }
    },
    {
      "cell_type": "markdown",
      "source": [
        "##Solicite os pontos na primeira entrada;\n",
        "Solicite que tipo de assinante ele é;\n",
        "Na saída informa se é Verdadeiro ou Falso a promoção;"
      ],
      "metadata": {
        "id": "dBElCHhs-BeI"
      }
    },
    {
      "cell_type": "code",
      "source": [
        "pontos = int(input(\"Digite a quantidade de pontos do jogador: \"))\n",
        "\n",
        "assinatura = input(\"Digite o tipo de assinatura/1 digite para premium /2 digite para comum:\")\n",
        "\n",
        "tem_promocao = pontos >= 1000 or assinatura == \"1\"\n",
        "\n",
        "print(\"Promoção:\", tem_promocao)"
      ],
      "metadata": {
        "colab": {
          "base_uri": "https://localhost:8080/"
        },
        "id": "0WcmxrT7NtJT",
        "outputId": "13da57f4-70ff-4b15-92e1-53f06125f4b5"
      },
      "execution_count": null,
      "outputs": [
        {
          "output_type": "stream",
          "name": "stdout",
          "text": [
            "Digite a quantidade de pontos do jogador: 1000\n",
            "Digite o tipo de assinatura/1 digite para premium/2 digite para comum:2\n",
            "Promoção: False\n"
          ]
        }
      ]
    },
    {
      "cell_type": "markdown",
      "source": [
        "#3- Solicite um valor ao usuário.\n",
        "\n",
        "##Verifique se o número que o usuário digitou está entre 10 e 20\n",
        "Na saída infome se é verdadeiro ou falso. }Exemplo saída. \"O número está entre 10 e 20\". A resposta será True ou False."
      ],
      "metadata": {
        "id": "vNeCAlySJxpx"
      }
    },
    {
      "cell_type": "code",
      "source": [
        "numero = float(input(\"Digite um número: \"))\n",
        "resultado = 10 <= numero <= 20\n",
        "print(\"O número está entre 10 e 20:\", resultado)"
      ],
      "metadata": {
        "colab": {
          "base_uri": "https://localhost:8080/"
        },
        "id": "4NIpwUAHOG3k",
        "outputId": "5ea8d37b-a742-4475-f433-4341a5e24ed4"
      },
      "execution_count": null,
      "outputs": [
        {
          "output_type": "stream",
          "name": "stdout",
          "text": [
            "Digite um número: 12\n",
            "O número está entre 10 e 20: True\n"
          ]
        }
      ]
    },
    {
      "cell_type": "markdown",
      "source": [
        "#4- Solicite a idade da pessoa, e pergunte quanto ela tem em dinheiro.\n",
        "\n",
        "A pessoa pode fazer uma viagem se: tiver mais de 18 anos E tiver mais de R$ 2000,00\n",
        "\n",
        "Na Saída informe se é Verdeiro ou falso A possibilidade da Viagem. Exemplo: Vai viajar? - O retorno será True or False"
      ],
      "metadata": {
        "id": "lSSH2bx9KMBY"
      }
    },
    {
      "cell_type": "code",
      "source": [
        "idade = int(input(\"Digite sua idade: \"))\n",
        "dinheiro = float(input(\"Digite quanto você tem em dinheiro (R$): \"))\n",
        "pode_viajar = idade > 18 and dinheiro > 2000\n",
        "print(\"Vai viajar? -\", pode_viajar)"
      ],
      "metadata": {
        "colab": {
          "base_uri": "https://localhost:8080/"
        },
        "id": "8kteITiyOtZi",
        "outputId": "00cee9d8-ee59-4119-9309-f557d39ecca6"
      },
      "execution_count": null,
      "outputs": [
        {
          "output_type": "stream",
          "name": "stdout",
          "text": [
            "Digite sua idade: 17\n",
            "Digite quanto você tem em dinheiro (R$): 3000\n",
            "Vai viajar? - False\n"
          ]
        }
      ]
    },
    {
      "cell_type": "markdown",
      "source": [
        "#5- Solicite a idade da pessoa, e pergunte quanto ela tem em dinheiro e agora pergunte se ela vai viajar com os pais.\n",
        "\n",
        "A pessoa pode fazer uma viagem se: (tiver mais de 18 anos E tiver mais de R$ 2000,00) ou se ela estiver com os pais.\n",
        "\n",
        "Na Saída informe se é Verdeiro ou falso A possibilidade da Viagem. Exemplo: Vai viajar? - O retorno será True or False\n"
      ],
      "metadata": {
        "id": "EymmADoXN_-E"
      }
    },
    {
      "cell_type": "code",
      "source": [
        "idade = int(input(\"Qual é a sua idade? \"))\n",
        "dinheiro = float(input(\"Quanto você tem em dinheiro (R$)? \"))\n",
        "com_pais = input(\"Você vai viajar com os seus pais?/1 digite para sim/2 para não\")\n",
        "vai_com_pais = com_pais == '1'\n",
        "pode_viajar = (idade > 18 and dinheiro > 2000.0) or vai_com_pais\n",
        "print(\"Vai viajar? -\", pode_viajar)"
      ],
      "metadata": {
        "colab": {
          "base_uri": "https://localhost:8080/"
        },
        "id": "qD0YjVSZPJ-m",
        "outputId": "48b2b44f-2bd4-4695-a8c3-640dc9bb7ab3"
      },
      "execution_count": null,
      "outputs": [
        {
          "output_type": "stream",
          "name": "stdout",
          "text": [
            "Qual é a sua idade? 13\n",
            "Quanto você tem em dinheiro (R$)? 50\n",
            "Você vai viajar com os seus pais?/1 digite para sim/2 para não1\n",
            "Vai viajar? - True\n"
          ]
        }
      ]
    },
    {
      "cell_type": "markdown",
      "source": [],
      "metadata": {
        "id": "Ptohbdf0P3Rr"
      }
    },
    {
      "cell_type": "markdown",
      "source": [
        "#6-Solicite três notas ao usuário e calcule a média e também solicite quantos dias letivos tem no ano e quantas faltas ele teve.\n",
        "\n",
        "Calcule a média (somando as notas e dividindo por 3)\n",
        "Calcule o percential de faltas (Divida a quantidade de faltas pela quantidade de dias letivos e multiplique por 100).\n",
        "Depois subtraia de 100 esse valor e obterá o percentual de presença\n",
        "Exemplo se o aluno faltou 5 vezes em 100 dias letivos:\n",
        "\n",
        "faltas = 5/100, obterá: 0,05, que multiplicando por 100 será 5. result = faltas * 100. Ou seja, 5% de faltas.\n",
        "\n",
        "percentual = 100 - result. Valor obtido nesse caso será 95, que representa 95% de presença.\n",
        "\n",
        "Para passar de ano, o aluno precisa de nota maior ou igual a 6 E presença maior ou igual a 75%\n",
        "\n",
        "Na saída informe se é verdadeiro ou falso que ele irá passar de ano. Exemplo: Vai passar de Ano? Ira ter como resposta: True or False"
      ],
      "metadata": {
        "id": "wWcbYr8fPzs8"
      }
    },
    {
      "cell_type": "code",
      "source": [
        "nota1 = int(input(\"digite a nota1: \"))\n",
        "nota2 = int(input(\"digite a nota2: \"))\n",
        "nota3 = int(input(\"digite a nota3: \"))\n",
        "letivos = int(input(\"digite quantos dias de aula você teve: \"))\n",
        "faltas = int(input(\"digite o número de faltas: \"))\n",
        "media = (nota1 + nota2 + nota3)/3\n",
        "percentual = 100-((faltas/letivos)*100)\n",
        "aprovado = media >= 6 and percentual >= 75\n",
        "print(\"vai passar de ano?\", aprovado)\n"
      ],
      "metadata": {
        "colab": {
          "base_uri": "https://localhost:8080/"
        },
        "id": "v-1I9zE95rwG",
        "outputId": "a6d8707e-0674-430e-81c3-9d5ecf81439c"
      },
      "execution_count": 2,
      "outputs": [
        {
          "output_type": "stream",
          "name": "stdout",
          "text": [
            "digite a nota1: 7\n",
            "digite a nota2: 10\n",
            "digite a nota3: 4\n",
            "digite quantos dias de aula você teve: 100\n",
            "digite o número de faltas: 10\n",
            "vai passar de ano? True\n"
          ]
        }
      ]
    },
    {
      "cell_type": "markdown",
      "source": [
        "#7) Peça para o usuário digitar um valor informe se ele é par ou impar"
      ],
      "metadata": {
        "id": "ICaUjzFBP_15"
      }
    },
    {
      "cell_type": "code",
      "source": [
        "numero = int(input(\"Digite um número: \"))\n",
        "resultado = numero % 2\n",
        "mensagens = {0: \"O número é par.\",1: \"O número é ímpar.\"}\n",
        "\n",
        "print(mensagens[resultado])"
      ],
      "metadata": {
        "id": "wWSOFXxpRUwq",
        "outputId": "a64c7f85-2419-4d7a-a79a-9187cfe7f15f",
        "colab": {
          "base_uri": "https://localhost:8080/"
        }
      },
      "execution_count": null,
      "outputs": [
        {
          "output_type": "stream",
          "name": "stdout",
          "text": [
            "Digite um número: 1000\n",
            "O número é par.\n"
          ]
        }
      ]
    },
    {
      "cell_type": "markdown",
      "source": [
        "#8 ) Faça um algoritmo em Python que receba o valor de três lados de um possível triângulo (l1, l2 e l3) e utilize operadores relacionais e lógicos para:\n",
        "\n",
        "Verificar se os valores informados podem formar um triângulo.\n",
        "Identificar se o triângulo é equilátero, escaleno ou isósceles.\n",
        "O programa deve atribuir True ou False para cada uma das seguintes variáveis:\n",
        "\n",
        "triangulo: True se os lados puderem formar um triângulo.\n",
        "equilatero: True se o triângulo for equilátero.\n",
        "escaleno: True se o triângulo for escaleno.\n",
        "isosceles: True se o triângulo for isósceles.\n",
        "Dica: Um triângulo só é possível se a soma de dois lados for maior que o terceiro, para os três pares possíveis.\n",
        "\n",
        "Lógica necessária\n",
        "\n",
        "Para ser um triângulo:\n",
        "\n",
        "l1+l2>l3 e\n",
        "l1+l3>l2l e\n",
        "l2+l3>l1\n",
        "Tipos de triângulo:\n",
        "\n",
        "Equilátero: todos os lados iguais.\n",
        "Escaleno: todos os lados diferentes.\n",
        "Isósceles: dois lados iguais."
      ],
      "metadata": {
        "id": "3iIWfl_CRjEl"
      }
    },
    {
      "cell_type": "code",
      "source": [
        "lado1 = float(input(\"digite o valor do lado 1 do triangulo: \"))\n",
        "lado2 = float(input(\"digite o valor do lado 2 do triangulo: \"))\n",
        "lado3 = float(input(\"digite o valor do lado 3 do triangulo: \"))\n",
        "\n",
        "triangulo = (lado1+lado2>lado3) and (lado1+lado3>lado2) and (lado2+lado3>1)\n",
        "equilatero = triangulo and (lado1 == lado2) and (lado1 == lado3) and (lado3 == lado2)\n",
        "escaleno = triangulo and (lado1!=lado2) and (lado1!=lado3) and (lado2!=lado3)\n",
        "isoceles = triangulo and ((lado1 == lado2) or (lado1 == lado3) or (lado2 == lado3) or (not equilatero) or (not escaleno))\n",
        "\n",
        "print(\"os lados informados podem formar um triangulo?: \", triangulo)\n",
        "print(\"o triangulo é equilatero?: \", equilatero)\n",
        "print(\"o triangulo é escaleno?: \", escaleno)\n",
        "print(\"o triangulo é isoceles?: \", isoceles)"
      ],
      "metadata": {
        "colab": {
          "base_uri": "https://localhost:8080/"
        },
        "id": "cKchTKST8dIp",
        "outputId": "5372321c-a341-4d32-ba95-222b875a036c"
      },
      "execution_count": 5,
      "outputs": [
        {
          "output_type": "stream",
          "name": "stdout",
          "text": [
            "digite o valor do lado 1 do triangulo: 5\n",
            "digite o valor do lado 2 do triangulo: 7\n",
            "digite o valor do lado 3 do triangulo: 9\n",
            "os lados informados podem formar um triangulo?:  True\n",
            "o triangulo é equilatero?:  False\n",
            "o triangulo é escaleno?:  True\n",
            "o triangulo é isoceles?:  True\n"
          ]
        }
      ]
    },
    {
      "cell_type": "markdown",
      "source": [
        "#9) Faça um programa que solicite peso e altura, informe seu IMC. Ao final informe se ele está, abaixo do peso,peso ideal ou acima do peso. fórmula do IMC: (peso/altura^2), siga a tabela abaixo:\n",
        "\n",
        "IMC\n",
        "\n",
        "Menos do que 18,5 ==> Abaixo do Peso\n",
        "Entre 18,5 e 24,9 ==>Peso normal\n",
        "Entre 25 e 29,9 ==> Sobrepeso\n",
        "Entre 30 e 34,9 ==> Obesidade grau 1\n",
        "Entre 35 e 39,9 ==> Obesidade grau 2\n",
        "Mais do que 40 ==> Obesidade grau 3"
      ],
      "metadata": {
        "id": "09V_-ZsDRoMx"
      }
    },
    {
      "cell_type": "markdown",
      "source": [
        "peso = float(input(\"Digite seu peso (kg): \"))\n",
        "altura = int(input(\"Digite sua altura (m): \"))\n",
        "\n",
        "imc = peso / (altura ** 2)\n",
        "print(f\"Seu IMC é: {imc:.2f}\")\n",
        "\n",
        "faixas = [0, 18.5, 24.9, 29.9, 34.9, 39.9, float('inf')]\n",
        "categorias = [\n",
        "    \"Abaixo do Peso\",\n",
        "    \"Peso normal\",\n",
        "    \"Sobrepeso\",\n",
        "    \"Obesidade grau 1\",\n",
        "    \"Obesidade grau 2\",\n",
        "    \"Obesidade grau 3\"]\n",
        "categoria = ([imc], bins=faixas, labels=categorias)[0]\n",
        "\n",
        "print(f\"Classificação: {categoria}\")"
      ],
      "metadata": {
        "id": "PwBUZCegRtKk"
      }
    },
    {
      "cell_type": "code",
      "source": [
        "peso =  float(input(\"digite o seu atual peso: \"))\n",
        "altura = float(input(\"digite a sua atual altura\"))\n",
        "imc = (peso/altura**2)\n",
        "print(f\"o seu IMC é {imc:.2f}\")\n",
        "\n",
        "abaixopeso = imc<18.5\n",
        "pesonormal = 18.5 <= imc <= 24.9\n",
        "sobrepeso = 25 <= imc <= 29.9\n",
        "obesidadegrau1 = 30 <= 30 <= imc <= 34.9\n",
        "obesidadegrau2 = 35 <= imc <= 39.9\n",
        "obesidadegrau3 = imc >= 40\n",
        "\n",
        "print(\"esta abaixo do peso?\", abaixopeso)\n",
        "print(\"esta com peso normal?\", pesonormal)\n",
        "print(\"esta com sobre preso?\", sobrepeso)\n",
        "print(\"esta com obesidade grau 1?\", obesidadegrau1)\n",
        "print(\"esta com obesidade grau 2?\", obesidadegrau2)\n",
        "print(\"esta com obesidade grau 3?\", obesidadegrau3)"
      ],
      "metadata": {
        "colab": {
          "base_uri": "https://localhost:8080/"
        },
        "id": "VfAPlG1a_Wvn",
        "outputId": "fd335ac7-afd7-4c16-f5d8-52b1f33b3f9c"
      },
      "execution_count": 8,
      "outputs": [
        {
          "output_type": "stream",
          "name": "stdout",
          "text": [
            "digite o seu atual peso: 45\n",
            "digite a sua atual altura168\n",
            "o seu IMC é 0.00\n",
            "esta abaixo do peso? True\n",
            "esta com peso normal? False\n",
            "esta com sobre preso? False\n",
            "esta com obesidade grau 1? False\n",
            "esta com obesidade grau 2? False\n",
            "esta com obesidade grau 3? False\n"
          ]
        }
      ]
    },
    {
      "cell_type": "markdown",
      "source": [
        "#4) Faça um programa que solicite altura e idade do usuário, informe se ele pode ou nao competir. Regras: Para competir no campeonato de vôlei o usuário de ter pelo menos 1.75 de altura e 18 anos."
      ],
      "metadata": {
        "id": "29dWEOf3z9hj"
      }
    },
    {
      "cell_type": "code",
      "source": [
        "altura = float(input(\"Digite a sua altura (em metros): \"))\n",
        "idade = int(input(\"Digite a sua idade: \"))\n",
        "\n",
        "pode_competir = all([altura >= 1.75, idade >= 18])\n",
        "\n",
        "print(\"Você pode competir?\" , pode_competir)"
      ],
      "metadata": {
        "id": "dnw9nd7JR0o-",
        "outputId": "d4f50c9d-6648-461d-890a-19ef9680882f",
        "colab": {
          "base_uri": "https://localhost:8080/"
        }
      },
      "execution_count": null,
      "outputs": [
        {
          "output_type": "stream",
          "name": "stdout",
          "text": [
            "Digite a sua altura (em metros): 1.7\n",
            "Digite a sua idade: 14\n",
            "Você pode competir? False\n"
          ]
        }
      ]
    }
  ]
}