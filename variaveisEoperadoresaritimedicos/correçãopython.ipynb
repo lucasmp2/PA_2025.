{
  "nbformat": 4,
  "nbformat_minor": 0,
  "metadata": {
    "colab": {
      "provenance": [],
      "authorship_tag": "ABX9TyMq12Mdlx3auz+C8CYUrCd3",
      "include_colab_link": true
    },
    "kernelspec": {
      "name": "python3",
      "display_name": "Python 3"
    },
    "language_info": {
      "name": "python"
    }
  },
  "cells": [
    {
      "cell_type": "markdown",
      "metadata": {
        "id": "view-in-github",
        "colab_type": "text"
      },
      "source": [
        "<a href=\"https://colab.research.google.com/github/lucasmp2/PA_2025./blob/main/variaveisEoperadoresaritimedicos/corre%C3%A7%C3%A3opython.ipynb\" target=\"_parent\"><img src=\"https://colab.research.google.com/assets/colab-badge.svg\" alt=\"Open In Colab\"/></a>"
      ]
    },
    {
      "cell_type": "markdown",
      "source": [
        "#Valor do carro"
      ],
      "metadata": {
        "id": "XtwjJpe89WKd"
      }
    },
    {
      "cell_type": "code",
      "source": [
        "valorcarro = int(input(\"digite o valor do carro: \"))"
      ],
      "metadata": {
        "colab": {
          "base_uri": "https://localhost:8080/"
        },
        "id": "8s934yLX9uth",
        "outputId": "132c1c65-4850-45c9-aa95-e31a15353413"
      },
      "execution_count": 1,
      "outputs": [
        {
          "name": "stdout",
          "output_type": "stream",
          "text": [
            "digite o valor do carro: 40000\n"
          ]
        }
      ]
    },
    {
      "cell_type": "code",
      "source": [
        "imposto = (valorcarro*45/100)+valorcarro"
      ],
      "metadata": {
        "id": "O7Tc1uRf-OIJ"
      },
      "execution_count": 3,
      "outputs": []
    },
    {
      "cell_type": "code",
      "source": [
        "distribuição = (imposto*28/100)+imposto"
      ],
      "metadata": {
        "id": "7QOvI6Nh-bFg"
      },
      "execution_count": 4,
      "outputs": []
    },
    {
      "cell_type": "code",
      "source": [
        "print (f\"O valor do carro para o consumidor será de: R${distribuição}\")"
      ],
      "metadata": {
        "colab": {
          "base_uri": "https://localhost:8080/"
        },
        "id": "q_6d3i8_-hr0",
        "outputId": "b2ddb830-75d4-4de9-9028-3cdc147aac61"
      },
      "execution_count": 5,
      "outputs": [
        {
          "output_type": "stream",
          "name": "stdout",
          "text": [
            "O valor do carro para o consumidor será de: R$74240.0\n"
          ]
        }
      ]
    },
    {
      "cell_type": "markdown",
      "source": [
        "#Valor da hora extra"
      ],
      "metadata": {
        "id": "K80FKiuh-6TU"
      }
    },
    {
      "cell_type": "code",
      "source": [
        "hora = float(input(\"digite o valor da hora:\"))\n",
        "minu = float(input(\"digite o valor dos minutos:\"))\n",
        "valorhora = int(input(\"digite o valor da hora extra:\"))"
      ],
      "metadata": {
        "colab": {
          "base_uri": "https://localhost:8080/"
        },
        "id": "LEBTvzp--9ug",
        "outputId": "3249dfdc-3b64-4b89-bf2e-14501216f052"
      },
      "execution_count": 9,
      "outputs": [
        {
          "name": "stdout",
          "output_type": "stream",
          "text": [
            "digite o valor da hora:20\n",
            "digite o valor dos minutos:15\n",
            "digite o valor da hora extra:10\n"
          ]
        }
      ]
    },
    {
      "cell_type": "code",
      "source": [
        "conversao = hora+(minu/60)"
      ],
      "metadata": {
        "id": "cACw43wpBwa7"
      },
      "execution_count": 14,
      "outputs": []
    },
    {
      "cell_type": "code",
      "source": [
        "salario = conversao*valorhora"
      ],
      "metadata": {
        "id": "wjYK3xl-B2Js"
      },
      "execution_count": 15,
      "outputs": []
    },
    {
      "cell_type": "code",
      "source": [
        "resultado = salario+(salario*70/100)"
      ],
      "metadata": {
        "id": "TLJYMEIlCmGs"
      },
      "execution_count": 16,
      "outputs": []
    },
    {
      "cell_type": "code",
      "source": [
        "print(f\"O valor da hora extra que essa pessoa ira receber será de: R${resultado}\")"
      ],
      "metadata": {
        "colab": {
          "base_uri": "https://localhost:8080/"
        },
        "id": "jnR3dygOC6Xn",
        "outputId": "90cd5fa5-346e-49d6-b8b4-8e0a8b8af88b"
      },
      "execution_count": 17,
      "outputs": [
        {
          "output_type": "stream",
          "name": "stdout",
          "text": [
            "O valor da hora extra que essa pessoa ira receber será de: R$344.25\n"
          ]
        }
      ]
    }
  ]
}