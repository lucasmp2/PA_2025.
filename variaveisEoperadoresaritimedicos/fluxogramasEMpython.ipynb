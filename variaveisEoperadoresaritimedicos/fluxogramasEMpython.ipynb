{
  "nbformat": 4,
  "nbformat_minor": 0,
  "metadata": {
    "colab": {
      "provenance": [],
      "authorship_tag": "ABX9TyP4wJuTPuAJMuonzQnY9R2Q",
      "include_colab_link": true
    },
    "kernelspec": {
      "name": "python3",
      "display_name": "Python 3"
    },
    "language_info": {
      "name": "python"
    }
  },
  "cells": [
    {
      "cell_type": "markdown",
      "metadata": {
        "id": "view-in-github",
        "colab_type": "text"
      },
      "source": [
        "<a href=\"https://colab.research.google.com/github/lucasmp2/PA_2025./blob/main/variaveisEoperadoresaritimedicos/fluxogramasEMpython.ipynb\" target=\"_parent\"><img src=\"https://colab.research.google.com/assets/colab-badge.svg\" alt=\"Open In Colab\"/></a>"
      ]
    },
    {
      "cell_type": "markdown",
      "source": [
        "#Valor do Carro\n",
        "\n",
        "\n",
        "\n",
        "\n"
      ],
      "metadata": {
        "id": "wV-8uRqX9qNe"
      }
    },
    {
      "cell_type": "code",
      "execution_count": 13,
      "metadata": {
        "colab": {
          "base_uri": "https://localhost:8080/"
        },
        "id": "c4kCqEjl0sB4",
        "outputId": "4122bc7a-0b6d-439e-af66-09ee601fd1aa"
      },
      "outputs": [
        {
          "name": "stdout",
          "output_type": "stream",
          "text": [
            "digite o valor do carro: 40000\n"
          ]
        }
      ],
      "source": [
        "valordocarro = float(input(\"digite o valor do carro: \"))"
      ]
    },
    {
      "cell_type": "code",
      "source": [
        "imposto = (valordocarro*45/100)+ valordocarro"
      ],
      "metadata": {
        "id": "xygT8KTc2hlk"
      },
      "execution_count": 15,
      "outputs": []
    },
    {
      "cell_type": "code",
      "source": [
        "distribuicao = (valordocarro*28/100)+ imposto"
      ],
      "metadata": {
        "id": "ldhNH49E7RgO"
      },
      "execution_count": 16,
      "outputs": []
    },
    {
      "cell_type": "code",
      "source": [
        "print(f\"O valor do carro para o consumidor será de: R${distribuicao}\")"
      ],
      "metadata": {
        "colab": {
          "base_uri": "https://localhost:8080/"
        },
        "id": "wBLOqf1K7jfG",
        "outputId": "100ecc3e-f763-4dd2-bbc1-26aba3c68b9f"
      },
      "execution_count": 18,
      "outputs": [
        {
          "output_type": "stream",
          "name": "stdout",
          "text": [
            "O valor do carro para o consumidor será de: R$69200.0\n"
          ]
        }
      ]
    },
    {
      "cell_type": "markdown",
      "source": [
        "#Conversão em segundos"
      ],
      "metadata": {
        "id": "KF3mpY3J96US"
      }
    },
    {
      "cell_type": "code",
      "source": [
        "hora = float(input(\"digite o valor da hora: \"))\n",
        "minutos = float(input(\"digite o valor do minutos: \"))"
      ],
      "metadata": {
        "colab": {
          "base_uri": "https://localhost:8080/"
        },
        "id": "1zLHluceACqz",
        "outputId": "31a04bd2-3f36-4595-cb8e-4a7187c76bc0"
      },
      "execution_count": 19,
      "outputs": [
        {
          "name": "stdout",
          "output_type": "stream",
          "text": [
            "digite o valor da hora: 8\n",
            "digite o valor do minutos: 46\n"
          ]
        }
      ]
    },
    {
      "cell_type": "code",
      "source": [
        "divminutos = 46/60"
      ],
      "metadata": {
        "id": "FN-7i_RVAUpc"
      },
      "execution_count": 20,
      "outputs": []
    },
    {
      "cell_type": "code",
      "source": [
        "segundos = hora+divminutos"
      ],
      "metadata": {
        "id": "aEfHVaTBAawA"
      },
      "execution_count": 21,
      "outputs": []
    },
    {
      "cell_type": "code",
      "source": [
        "print(f\"A conversão de horas e minutos para segundos ficou: {segundos}\")"
      ],
      "metadata": {
        "colab": {
          "base_uri": "https://localhost:8080/"
        },
        "id": "CRi669JCAiTs",
        "outputId": "f7dfdbc2-bfb2-4b8c-b1ab-c848688b7421"
      },
      "execution_count": 22,
      "outputs": [
        {
          "output_type": "stream",
          "name": "stdout",
          "text": [
            "A conversão de horas e minutos para segundos ficou: 8.766666666666667\n"
          ]
        }
      ]
    },
    {
      "cell_type": "markdown",
      "source": [
        "#Hora extra"
      ],
      "metadata": {
        "id": "krbmorebAyGW"
      }
    },
    {
      "cell_type": "code",
      "source": [
        "hora = float(input(\"digite quantas horas são: \"))\n",
        "minutos = float(input(\"digite quantos minutos são: \"))\n",
        "valorhora = float(input(\"digite quanto ganha por hora: \"))"
      ],
      "metadata": {
        "colab": {
          "base_uri": "https://localhost:8080/"
        },
        "id": "eEWQlJi2DxP4",
        "outputId": "bc73dc81-01d8-4967-8660-e2737b2f16a4"
      },
      "execution_count": 36,
      "outputs": [
        {
          "name": "stdout",
          "output_type": "stream",
          "text": [
            "digite quantas horas são: 23\n",
            "digite quantos minutos são: 31\n",
            "digite quanto ganha por hora: 30\n"
          ]
        }
      ]
    },
    {
      "cell_type": "code",
      "source": [
        "convertido = hora + (31/60)"
      ],
      "metadata": {
        "id": "Hr6rbuXTEZy7"
      },
      "execution_count": 37,
      "outputs": []
    },
    {
      "cell_type": "code",
      "source": [
        "salario = (valorhora*70/100) + convertido"
      ],
      "metadata": {
        "id": "zVyXlug0EieI"
      },
      "execution_count": 38,
      "outputs": []
    },
    {
      "cell_type": "code",
      "source": [
        "print(f\"ele irá ganhar de hora extra: R${salario}\")"
      ],
      "metadata": {
        "colab": {
          "base_uri": "https://localhost:8080/"
        },
        "id": "VhSU1cF_EtA_",
        "outputId": "4868a94b-9862-42f2-f0ec-c8b7849639ab"
      },
      "execution_count": 39,
      "outputs": [
        {
          "output_type": "stream",
          "name": "stdout",
          "text": [
            "ele irá ganhar de hora extra: R$44.516666666666666\n"
          ]
        }
      ]
    }
  ]
}