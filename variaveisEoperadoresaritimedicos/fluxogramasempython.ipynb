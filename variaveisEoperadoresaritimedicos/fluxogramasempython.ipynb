{
  "nbformat": 4,
  "nbformat_minor": 0,
  "metadata": {
    "colab": {
      "provenance": [],
      "authorship_tag": "ABX9TyOJJNSMjJttP1TDX6O921da",
      "include_colab_link": true
    },
    "kernelspec": {
      "name": "python3",
      "display_name": "Python 3"
    },
    "language_info": {
      "name": "python"
    }
  },
  "cells": [
    {
      "cell_type": "markdown",
      "metadata": {
        "id": "view-in-github",
        "colab_type": "text"
      },
      "source": [
        "<a href=\"https://colab.research.google.com/github/lucasmp2/PA_2025./blob/main/variaveisEoperadoresaritimedicos/fluxogramasempython.ipynb\" target=\"_parent\"><img src=\"https://colab.research.google.com/assets/colab-badge.svg\" alt=\"Open In Colab\"/></a>"
      ]
    },
    {
      "cell_type": "markdown",
      "source": [
        "#Cálculo da Média"
      ],
      "metadata": {
        "id": "jPzXtrc_t_KJ"
      }
    },
    {
      "cell_type": "markdown",
      "source": [
        "##Recebe notas das provas"
      ],
      "metadata": {
        "id": "xTGbU0pVuKjP"
      }
    },
    {
      "cell_type": "code",
      "source": [
        "nota1 = float(input(\"digite o valor da primeira nota: \"))\n",
        "nota2 = float(input(\"digite o valor da segunda nota: \"))"
      ],
      "metadata": {
        "colab": {
          "base_uri": "https://localhost:8080/"
        },
        "id": "_G94YOJ_uLMC",
        "outputId": "97be6520-fd91-460c-f9d1-9242c4fe84df"
      },
      "execution_count": 2,
      "outputs": [
        {
          "name": "stdout",
          "output_type": "stream",
          "text": [
            "digite o valor da primeira nota: 7\n",
            "digite o valor da segunda nota: 9\n"
          ]
        }
      ]
    },
    {
      "cell_type": "markdown",
      "source": [
        "##Calculo da Média"
      ],
      "metadata": {
        "id": "8TdFVsTOu64k"
      }
    },
    {
      "cell_type": "code",
      "source": [
        "media = (nota1 + nota2)/2"
      ],
      "metadata": {
        "id": "gANhwziKuoCl"
      },
      "execution_count": 4,
      "outputs": []
    },
    {
      "cell_type": "markdown",
      "source": [
        "##Média"
      ],
      "metadata": {
        "id": "qVffo63Tu-VT"
      }
    },
    {
      "cell_type": "code",
      "source": [
        "print(f\"A média é: {media}\")"
      ],
      "metadata": {
        "colab": {
          "base_uri": "https://localhost:8080/"
        },
        "id": "C1h9wYbvvClg",
        "outputId": "1a377659-30c4-4194-eade-f736b67476e3"
      },
      "execution_count": 5,
      "outputs": [
        {
          "output_type": "stream",
          "name": "stdout",
          "text": [
            "A média é: 8.0\n"
          ]
        }
      ]
    },
    {
      "cell_type": "markdown",
      "source": [
        "#Cotação do Dólar"
      ],
      "metadata": {
        "id": "RDYyJx7pwHnF"
      }
    },
    {
      "cell_type": "code",
      "source": [
        "cotacao_dolar = float(input(\"digite o valor do dólar: \"\"$\"))\n",
        "valor_reais = float(input(\"digite o valor em reais: \"\"R$\"))"
      ],
      "metadata": {
        "colab": {
          "base_uri": "https://localhost:8080/"
        },
        "id": "bek0nWdMweb0",
        "outputId": "7e07d0dd-e5ad-40b6-ed47-feeb233f7e3e"
      },
      "execution_count": 18,
      "outputs": [
        {
          "name": "stdout",
          "output_type": "stream",
          "text": [
            "digite o valor do dólar: $5.77\n",
            "digite o valor em reais: R$200\n"
          ]
        }
      ]
    },
    {
      "cell_type": "markdown",
      "source": [
        "##cálculo da cotação"
      ],
      "metadata": {
        "id": "g_eTBz1MxNHq"
      }
    },
    {
      "cell_type": "code",
      "source": [
        "valor_dolar = valor_reais / cotacao_dolar"
      ],
      "metadata": {
        "id": "8qIQIWYCxQ7Y"
      },
      "execution_count": 19,
      "outputs": []
    },
    {
      "cell_type": "markdown",
      "source": [
        "##Valor do Dólar"
      ],
      "metadata": {
        "id": "oJPZk2SzxeDG"
      }
    },
    {
      "cell_type": "code",
      "source": [
        "print(f\"O valor em dólar é: {valor_dolar}\")"
      ],
      "metadata": {
        "colab": {
          "base_uri": "https://localhost:8080/"
        },
        "id": "n18FSmb0xjx7",
        "outputId": "2814e164-e7bb-4f47-b584-6528840eb6ac"
      },
      "execution_count": 22,
      "outputs": [
        {
          "output_type": "stream",
          "name": "stdout",
          "text": [
            "O valor em dólar é: 34.662045060658585\n"
          ]
        }
      ]
    },
    {
      "cell_type": "markdown",
      "source": [
        "# Cálculo de comissão"
      ],
      "metadata": {
        "id": "_Y_kS-iEyl81"
      }
    },
    {
      "cell_type": "code",
      "source": [
        "preco_unitario = float(input(\"digite o preço da roupa: \"))\n",
        "quantidade_vendida = float(input(\"digite a quantidade de roupa vendida:\"))"
      ],
      "metadata": {
        "colab": {
          "base_uri": "https://localhost:8080/"
        },
        "id": "0wYcy1qZywVR",
        "outputId": "a3248468-522b-4bff-9602-90b617da9d82"
      },
      "execution_count": 23,
      "outputs": [
        {
          "name": "stdout",
          "output_type": "stream",
          "text": [
            "digite o preço da roupa: 89.90\n",
            "digite a quantidade de roupa vendida:6\n"
          ]
        }
      ]
    },
    {
      "cell_type": "markdown",
      "source": [
        "##cálculo"
      ],
      "metadata": {
        "id": "uF35FblHzR1x"
      }
    },
    {
      "cell_type": "code",
      "source": [
        "valor_total_venda = preco_unitario * quantidade_vendida\n",
        "comissao = valor_total_venda * 0.07"
      ],
      "metadata": {
        "id": "8u600WdRz01F"
      },
      "execution_count": 24,
      "outputs": []
    },
    {
      "cell_type": "markdown",
      "source": [
        "##comissão"
      ],
      "metadata": {
        "id": "5OMxhSCvz2be"
      }
    },
    {
      "cell_type": "code",
      "source": [
        "print(f\"valor total da venda: R${valor_total_venda}\")\n",
        "print(f\"comissão do vendedor: R${comissao}\")"
      ],
      "metadata": {
        "colab": {
          "base_uri": "https://localhost:8080/"
        },
        "id": "GeTk6hXEz5Ll",
        "outputId": "a96ac2d4-487f-4ed3-ed20-6b897ca7ea97"
      },
      "execution_count": 25,
      "outputs": [
        {
          "output_type": "stream",
          "name": "stdout",
          "text": [
            "valor total da venda: R$539.4000000000001\n",
            "comissão do vendedor: R$37.75800000000001\n"
          ]
        }
      ]
    }
  ]
}