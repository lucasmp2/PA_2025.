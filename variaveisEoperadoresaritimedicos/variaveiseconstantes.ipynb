{
  "nbformat": 4,
  "nbformat_minor": 0,
  "metadata": {
    "colab": {
      "provenance": [],
      "authorship_tag": "ABX9TyO5xLfN8sQS3AT83kIXU9dy",
      "include_colab_link": true
    },
    "kernelspec": {
      "name": "python3",
      "display_name": "Python 3"
    },
    "language_info": {
      "name": "python"
    }
  },
  "cells": [
    {
      "cell_type": "markdown",
      "metadata": {
        "id": "view-in-github",
        "colab_type": "text"
      },
      "source": [
        "<a href=\"https://colab.research.google.com/github/lucasmp2/PA_2025./blob/main/variaveisEoperadoresaritimedicos/variaveiseconstantes.ipynb\" target=\"_parent\"><img src=\"https://colab.research.google.com/assets/colab-badge.svg\" alt=\"Open In Colab\"/></a>"
      ]
    },
    {
      "cell_type": "markdown",
      "source": [
        "#Variáveis e Constantes"
      ],
      "metadata": {
        "id": "HuRuFpfVhJ3o"
      }
    },
    {
      "cell_type": "code",
      "source": [
        "idade = 15\n",
        "altura = 1.67\n",
        "nome = \"Lucas Martins\"\n",
        "escola = \"ETEC MCM\"\n",
        "vai = True\n"
      ],
      "metadata": {
        "id": "U3uZW4BIgUbm"
      },
      "execution_count": null,
      "outputs": []
    },
    {
      "cell_type": "code",
      "source": [
        "nomes = [\"Lucas Martins\", \"Matheus\", \"Rafael\"]\n",
        "nomes2 = (\"Lucas Martins\", \"Pedro\", \"Ana\")\n",
        "tudo = {nome:\"Lucas Martins\", idade: 15, altura: 1.67}\n"
      ],
      "metadata": {
        "id": "EQ8vsKh-hpwQ"
      },
      "execution_count": null,
      "outputs": []
    },
    {
      "cell_type": "code",
      "source": [
        "print (nome)\n",
        "print (nomes)\n",
        "print (nomes2)\n",
        "print (tudo)"
      ],
      "metadata": {
        "colab": {
          "base_uri": "https://localhost:8080/"
        },
        "id": "1R-ooyoOjWE4",
        "outputId": "0281a97a-6dca-4ebb-fb2e-4ae414da065d"
      },
      "execution_count": null,
      "outputs": [
        {
          "output_type": "stream",
          "name": "stdout",
          "text": [
            "Lucas Martins\n",
            "['Lucas Martins', 'Matheus', 'Rafael']\n",
            "('Lucas Martins', 'Pedro', 'Ana')\n",
            "{'Lucas Martins': 'Lucas Martins', 15: 15, 1.67: 1.67}\n"
          ]
        }
      ]
    },
    {
      "cell_type": "code",
      "source": [
        "print(type(idade))\n",
        "print(type(altura))\n",
        "print(type(vai))\n",
        "print(type(nome))\n",
        "print(type(nomes))\n",
        "print(type(nomes2))\n",
        "print(type(tudo))\n"
      ],
      "metadata": {
        "colab": {
          "base_uri": "https://localhost:8080/"
        },
        "id": "qLilLH-ykKcM",
        "outputId": "a26d2171-8bcf-4c04-d7f7-0383f4e62fdf"
      },
      "execution_count": null,
      "outputs": [
        {
          "output_type": "stream",
          "name": "stdout",
          "text": [
            "<class 'int'>\n",
            "<class 'float'>\n",
            "<class 'bool'>\n",
            "<class 'str'>\n",
            "<class 'list'>\n",
            "<class 'tuple'>\n",
            "<class 'dict'>\n"
          ]
        }
      ]
    },
    {
      "cell_type": "code",
      "source": [
        "print(\"O nome dele é: \", nome, \",sua idade é: \", idade, \" anos, e ele tem \", altura, \"metros de altura.\")"
      ],
      "metadata": {
        "colab": {
          "base_uri": "https://localhost:8080/"
        },
        "id": "ZZ5Bm3sjmbKI",
        "outputId": "df44b287-3bfb-42c8-b98c-5e9bb4393d56"
      },
      "execution_count": null,
      "outputs": [
        {
          "output_type": "stream",
          "name": "stdout",
          "text": [
            "O nome dele é:  Lucas Martins ,sua idade é:  15  anos, e ele tem  1.67 metros de altura.\n"
          ]
        }
      ]
    },
    {
      "cell_type": "code",
      "source": [
        "print (f\"O nome dele é: {nome}, A altura dele é: {altura} metros de altura, ele estuda na : {escola} \")"
      ],
      "metadata": {
        "colab": {
          "base_uri": "https://localhost:8080/"
        },
        "id": "RgUpmzYksYCI",
        "outputId": "0d9d1e36-928e-4842-c72b-633e330708a7"
      },
      "execution_count": null,
      "outputs": [
        {
          "output_type": "stream",
          "name": "stdout",
          "text": [
            "O nome dele é: Lucas Martins, A altura dele é: 1.67 metros de altura, ele estuda na : ETEC MCM \n"
          ]
        }
      ]
    },
    {
      "cell_type": "markdown",
      "source": [
        "#Área do Círculo"
      ],
      "metadata": {
        "id": "Sk9rVyvbveis"
      }
    },
    {
      "cell_type": "code",
      "source": [
        "PI = 3.14159\n",
        "raio = float(input(\"Digite o valor do raio do círculo: \"))"
      ],
      "metadata": {
        "colab": {
          "base_uri": "https://localhost:8080/"
        },
        "id": "JbJRwaQHvj6l",
        "outputId": "b861f0e6-c350-4588-b416-091a65221f13"
      },
      "execution_count": null,
      "outputs": [
        {
          "name": "stdout",
          "output_type": "stream",
          "text": [
            "Digite o valor do raio do círculo: 7\n"
          ]
        }
      ]
    },
    {
      "cell_type": "code",
      "source": [
        "areacir = PI * (raio**2)"
      ],
      "metadata": {
        "id": "YGB2n-ZxwD0U"
      },
      "execution_count": null,
      "outputs": []
    },
    {
      "cell_type": "code",
      "source": [
        "print(f\"A área do círculo é{areacir}\")"
      ],
      "metadata": {
        "colab": {
          "base_uri": "https://localhost:8080/"
        },
        "id": "KV93DCSrxOrc",
        "outputId": "9f1b8c14-0873-4e40-94d8-19cf46b7c4c0"
      },
      "execution_count": null,
      "outputs": [
        {
          "output_type": "stream",
          "name": "stdout",
          "text": [
            "A área do círculo é153.93791\n"
          ]
        }
      ]
    },
    {
      "cell_type": "markdown",
      "source": [
        "# Área do Quadrado"
      ],
      "metadata": {
        "id": "N1CWPPDPplDW"
      }
    },
    {
      "cell_type": "code",
      "source": [
        "lado = float(input(\"digite o valor aqui \"))\n",
        "area = lado**2\n",
        "\n",
        "print (f\"digite á área do quadrado: {area}\")"
      ],
      "metadata": {
        "colab": {
          "base_uri": "https://localhost:8080/"
        },
        "id": "91qJcAT1zqi9",
        "outputId": "b574ae49-7051-4eda-f12c-7b6b4ccf7ea1"
      },
      "execution_count": null,
      "outputs": [
        {
          "output_type": "stream",
          "name": "stdout",
          "text": [
            "digite o valor aqui 8\n",
            "digite á área do quadrado: 64.0\n"
          ]
        }
      ]
    },
    {
      "cell_type": "markdown",
      "source": [
        "# Exercicios"
      ],
      "metadata": {
        "id": "shOtSt6mps6s"
      }
    },
    {
      "cell_type": "markdown",
      "source": [
        "##Exercício 1 - Área do Retângulo\n",
        "\n",
        "Crie um programa que calcule a área de um retângulo usando uma constante para representar a base.\n",
        "\n",
        " Fórmula: A = base × altura"
      ],
      "metadata": {
        "id": "n_0fxL8Dp4tN"
      }
    },
    {
      "cell_type": "code",
      "source": [
        "base = float(input(\"digite o valor da base: \"))\n",
        "altura = float(input(\"digite o valor da altura: \"))\n"
      ],
      "metadata": {
        "colab": {
          "base_uri": "https://localhost:8080/"
        },
        "id": "tVUe33Ljq4wj",
        "outputId": "a4ebef09-277c-4627-894d-8766dc6aaec6"
      },
      "execution_count": 5,
      "outputs": [
        {
          "name": "stdout",
          "output_type": "stream",
          "text": [
            "digite o valor da base: 7\n",
            "digite o valor da altura: 3\n"
          ]
        }
      ]
    },
    {
      "cell_type": "code",
      "source": [
        "arearetan = base*altura"
      ],
      "metadata": {
        "id": "MPsjq3PprO4V"
      },
      "execution_count": 6,
      "outputs": []
    },
    {
      "cell_type": "code",
      "source": [
        "print(f\"digite a área do retamgulo: {arearetan}\")"
      ],
      "metadata": {
        "colab": {
          "base_uri": "https://localhost:8080/"
        },
        "id": "0xJ6x5ZcsKAh",
        "outputId": "585076df-3ade-4b68-8a96-77f1ee2b8b9d"
      },
      "execution_count": 9,
      "outputs": [
        {
          "output_type": "stream",
          "name": "stdout",
          "text": [
            "digite a área do retamgulo: 21.0\n"
          ]
        }
      ]
    },
    {
      "cell_type": "markdown",
      "source": [
        "##Exercício 2 – Perímetro do Círculo\n",
        "\n",
        "Crie um programa que calcule o perímetro de um círculo usando a constante π.\n",
        "\n",
        " Fórmula: P = 2 × π × r"
      ],
      "metadata": {
        "id": "ywIwsBnksmgv"
      }
    },
    {
      "cell_type": "markdown",
      "source": [],
      "metadata": {
        "id": "WHWuNazAr9ja"
      }
    },
    {
      "cell_type": "code",
      "source": [
        "raio = float(input(\"digite o valor do raio:\"))\n",
        "PI = float(input(\"digite o valor de PI:\"))\n"
      ],
      "metadata": {
        "colab": {
          "base_uri": "https://localhost:8080/"
        },
        "id": "FwEm7Ldrs2Hm",
        "outputId": "a451fa5c-2b92-404c-f99e-a40de155fc8f"
      },
      "execution_count": 12,
      "outputs": [
        {
          "name": "stdout",
          "output_type": "stream",
          "text": [
            "digite o valor do raio:15\n",
            "digite o valor de PI:3.14159\n"
          ]
        }
      ]
    },
    {
      "cell_type": "code",
      "source": [
        "perimetro = 2*PI*raio"
      ],
      "metadata": {
        "id": "wwb8iQzwt5-p"
      },
      "execution_count": 14,
      "outputs": []
    },
    {
      "cell_type": "code",
      "source": [
        "perimetro"
      ],
      "metadata": {
        "colab": {
          "base_uri": "https://localhost:8080/"
        },
        "id": "iRXNNP8uuFwp",
        "outputId": "44247685-2938-4eb5-e8f6-3015e0d877a8"
      },
      "execution_count": 15,
      "outputs": [
        {
          "output_type": "execute_result",
          "data": {
            "text/plain": [
              "94.2477"
            ]
          },
          "metadata": {},
          "execution_count": 15
        }
      ]
    },
    {
      "cell_type": "markdown",
      "source": [
        "##Exercício 3 – Conversão de Temperatura\n",
        "\n",
        "Crie um programa que converta uma temperatura de Fahrenheit para Celsius.\n",
        "\n",
        " Fórmula: C = (F - 32) × 5/9\n",
        ""
      ],
      "metadata": {
        "id": "9R9gIIpmumbv"
      }
    },
    {
      "cell_type": "code",
      "source": [
        "fahrenheit = float(input(\"digite o valor da temperatura em fahrenheit: \"))"
      ],
      "metadata": {
        "colab": {
          "base_uri": "https://localhost:8080/"
        },
        "id": "6Z_SrsIEut6W",
        "outputId": "5e49545c-057d-4bbc-a56b-88f669872c6a"
      },
      "execution_count": 16,
      "outputs": [
        {
          "name": "stdout",
          "output_type": "stream",
          "text": [
            "digite o valor da temperatura em fahrenheit: 79\n"
          ]
        }
      ]
    },
    {
      "cell_type": "code",
      "source": [
        "celsius = (fahrenheit - 32)* 5/9"
      ],
      "metadata": {
        "id": "JTlOpnCFvQRz"
      },
      "execution_count": 17,
      "outputs": []
    },
    {
      "cell_type": "code",
      "source": [
        "celsius"
      ],
      "metadata": {
        "colab": {
          "base_uri": "https://localhost:8080/"
        },
        "id": "T0CWQiSQv-2Y",
        "outputId": "63073a8c-ee68-4a8a-945c-b3dadb9d37ad"
      },
      "execution_count": 18,
      "outputs": [
        {
          "output_type": "execute_result",
          "data": {
            "text/plain": [
              "26.11111111111111"
            ]
          },
          "metadata": {},
          "execution_count": 18
        }
      ]
    },
    {
      "cell_type": "markdown",
      "source": [
        "## Exercício 4 – Cálculo do IMC\n",
        "\n",
        "Crie um programa que calcule o Índice de Massa Corporal (IMC) de uma pessoa.\n",
        "\n",
        " Fórmula: IMC = peso / altura²\n",
        ""
      ],
      "metadata": {
        "id": "T8k8qi9ZwQG4"
      }
    },
    {
      "cell_type": "code",
      "source": [
        "peso = float(input(\"digite o valor do peso: \"))\n",
        "altura = float(input(\"digite o valor da altura: \"))"
      ],
      "metadata": {
        "colab": {
          "base_uri": "https://localhost:8080/"
        },
        "id": "OMKd2GVSwVdZ",
        "outputId": "7dad2776-bfc9-47c5-f56f-100c93e68f8e"
      },
      "execution_count": 27,
      "outputs": [
        {
          "name": "stdout",
          "output_type": "stream",
          "text": [
            "digite o valor do peso: 45\n",
            "digite o valor da altura: 1.67\n"
          ]
        }
      ]
    },
    {
      "cell_type": "code",
      "source": [
        "IMC = peso/(altura**2)"
      ],
      "metadata": {
        "id": "X5-ZIagqw5Gn"
      },
      "execution_count": 28,
      "outputs": []
    },
    {
      "cell_type": "code",
      "source": [
        "IMC"
      ],
      "metadata": {
        "colab": {
          "base_uri": "https://localhost:8080/"
        },
        "id": "lGqyQXw6xJW0",
        "outputId": "e358c47f-e229-411a-9508-79dad6594cb4"
      },
      "execution_count": 29,
      "outputs": [
        {
          "output_type": "execute_result",
          "data": {
            "text/plain": [
              "16.1353938828929"
            ]
          },
          "metadata": {},
          "execution_count": 29
        }
      ]
    }
  ]
}