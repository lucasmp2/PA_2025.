{
  "nbformat": 4,
  "nbformat_minor": 0,
  "metadata": {
    "colab": {
      "provenance": [],
      "authorship_tag": "ABX9TyPuqNyl6yQip9XWsaQ3TH37",
      "include_colab_link": true
    },
    "kernelspec": {
      "name": "python3",
      "display_name": "Python 3"
    },
    "language_info": {
      "name": "python"
    }
  },
  "cells": [
    {
      "cell_type": "markdown",
      "metadata": {
        "id": "view-in-github",
        "colab_type": "text"
      },
      "source": [
        "<a href=\"https://colab.research.google.com/github/lucasmp2/PA_2025./blob/main/variaveisEoperadoresaritimedicos/variaveiseconstantes.ipynb\" target=\"_parent\"><img src=\"https://colab.research.google.com/assets/colab-badge.svg\" alt=\"Open In Colab\"/></a>"
      ]
    },
    {
      "cell_type": "markdown",
      "source": [
        "#Variáveis e Constantes"
      ],
      "metadata": {
        "id": "HuRuFpfVhJ3o"
      }
    },
    {
      "cell_type": "code",
      "source": [
        "idade = 15\n",
        "altura = 1.67\n",
        "nome = \"Lucas Martins\"\n",
        "escola = \"ETEC MCM\"\n",
        "vai = True\n"
      ],
      "metadata": {
        "id": "U3uZW4BIgUbm"
      },
      "execution_count": null,
      "outputs": []
    },
    {
      "cell_type": "code",
      "source": [
        "nomes = [\"Lucas Martins\", \"Matheus\", \"Rafael\"]\n",
        "nomes2 = (\"Lucas Martins\", \"Pedro\", \"Ana\")\n",
        "tudo = {nome:\"Lucas Martins\", idade: 15, altura: 1.67}\n"
      ],
      "metadata": {
        "id": "EQ8vsKh-hpwQ"
      },
      "execution_count": null,
      "outputs": []
    },
    {
      "cell_type": "code",
      "source": [
        "print (nome)\n",
        "print (nomes)\n",
        "print (nomes2)\n",
        "print (tudo)"
      ],
      "metadata": {
        "colab": {
          "base_uri": "https://localhost:8080/"
        },
        "id": "1R-ooyoOjWE4",
        "outputId": "0281a97a-6dca-4ebb-fb2e-4ae414da065d"
      },
      "execution_count": null,
      "outputs": [
        {
          "output_type": "stream",
          "name": "stdout",
          "text": [
            "Lucas Martins\n",
            "['Lucas Martins', 'Matheus', 'Rafael']\n",
            "('Lucas Martins', 'Pedro', 'Ana')\n",
            "{'Lucas Martins': 'Lucas Martins', 15: 15, 1.67: 1.67}\n"
          ]
        }
      ]
    },
    {
      "cell_type": "code",
      "source": [
        "print(type(idade))\n",
        "print(type(altura))\n",
        "print(type(vai))\n",
        "print(type(nome))\n",
        "print(type(nomes))\n",
        "print(type(nomes2))\n",
        "print(type(tudo))\n"
      ],
      "metadata": {
        "colab": {
          "base_uri": "https://localhost:8080/"
        },
        "id": "qLilLH-ykKcM",
        "outputId": "a26d2171-8bcf-4c04-d7f7-0383f4e62fdf"
      },
      "execution_count": null,
      "outputs": [
        {
          "output_type": "stream",
          "name": "stdout",
          "text": [
            "<class 'int'>\n",
            "<class 'float'>\n",
            "<class 'bool'>\n",
            "<class 'str'>\n",
            "<class 'list'>\n",
            "<class 'tuple'>\n",
            "<class 'dict'>\n"
          ]
        }
      ]
    },
    {
      "cell_type": "code",
      "source": [
        "print(\"O nome dele é: \", nome, \",sua idade é: \", idade, \" anos, e ele tem \", altura, \"metros de altura.\")"
      ],
      "metadata": {
        "colab": {
          "base_uri": "https://localhost:8080/"
        },
        "id": "ZZ5Bm3sjmbKI",
        "outputId": "df44b287-3bfb-42c8-b98c-5e9bb4393d56"
      },
      "execution_count": null,
      "outputs": [
        {
          "output_type": "stream",
          "name": "stdout",
          "text": [
            "O nome dele é:  Lucas Martins ,sua idade é:  15  anos, e ele tem  1.67 metros de altura.\n"
          ]
        }
      ]
    },
    {
      "cell_type": "code",
      "source": [
        "print (f\"O nome dele é: {nome}, A altura dele é: {altura} metros de altura, ele estuda na : {escola} \")"
      ],
      "metadata": {
        "colab": {
          "base_uri": "https://localhost:8080/"
        },
        "id": "RgUpmzYksYCI",
        "outputId": "0d9d1e36-928e-4842-c72b-633e330708a7"
      },
      "execution_count": null,
      "outputs": [
        {
          "output_type": "stream",
          "name": "stdout",
          "text": [
            "O nome dele é: Lucas Martins, A altura dele é: 1.67 metros de altura, ele estuda na : ETEC MCM \n"
          ]
        }
      ]
    },
    {
      "cell_type": "markdown",
      "source": [
        "#Área do Círculo"
      ],
      "metadata": {
        "id": "Sk9rVyvbveis"
      }
    },
    {
      "cell_type": "code",
      "source": [
        "PI = 3.14159\n",
        "raio = float(input(\"Digite o valor do raio do círculo: \"))"
      ],
      "metadata": {
        "colab": {
          "base_uri": "https://localhost:8080/"
        },
        "id": "JbJRwaQHvj6l",
        "outputId": "b861f0e6-c350-4588-b416-091a65221f13"
      },
      "execution_count": null,
      "outputs": [
        {
          "name": "stdout",
          "output_type": "stream",
          "text": [
            "Digite o valor do raio do círculo: 7\n"
          ]
        }
      ]
    },
    {
      "cell_type": "code",
      "source": [
        "areacir = PI * (raio**2)"
      ],
      "metadata": {
        "id": "YGB2n-ZxwD0U"
      },
      "execution_count": null,
      "outputs": []
    },
    {
      "cell_type": "code",
      "source": [
        "print(f\"A área do círculo é{areacir}\")"
      ],
      "metadata": {
        "colab": {
          "base_uri": "https://localhost:8080/"
        },
        "id": "KV93DCSrxOrc",
        "outputId": "9f1b8c14-0873-4e40-94d8-19cf46b7c4c0"
      },
      "execution_count": null,
      "outputs": [
        {
          "output_type": "stream",
          "name": "stdout",
          "text": [
            "A área do círculo é153.93791\n"
          ]
        }
      ]
    },
    {
      "cell_type": "code",
      "source": [
        "lado = float(input(\"digite o valor aqui \"))\n",
        "area = lado**2\n",
        "\n",
        "print (f\"digite á área do quadrado: {area}\")"
      ],
      "metadata": {
        "colab": {
          "base_uri": "https://localhost:8080/"
        },
        "id": "91qJcAT1zqi9",
        "outputId": "b574ae49-7051-4eda-f12c-7b6b4ccf7ea1"
      },
      "execution_count": null,
      "outputs": [
        {
          "output_type": "stream",
          "name": "stdout",
          "text": [
            "digite o valor aqui 8\n",
            "digite á área do quadrado: 64.0\n"
          ]
        }
      ]
    }
  ]
}